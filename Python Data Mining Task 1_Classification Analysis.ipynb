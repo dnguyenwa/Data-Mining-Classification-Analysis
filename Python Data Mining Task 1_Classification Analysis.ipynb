{
 "cells": [
  {
   "cell_type": "markdown",
   "id": "b9aaf8b7",
   "metadata": {},
   "source": [
    "Dung Nguyen\n",
    "\n",
    "Performance Assessment \n",
    "\n",
    "Task 1 Classification Analysis\n",
    "\n",
    "D209 - Data Mining I\n",
    "\n",
    "December 02, 2021"
   ]
  },
  {
   "cell_type": "markdown",
   "id": "057f2e81",
   "metadata": {},
   "source": [
    "# Part 1: Research Question"
   ]
  },
  {
   "cell_type": "markdown",
   "id": "5388763e",
   "metadata": {},
   "source": [
    "**A1. Research Question:**\n",
    "\n",
    "Can we determine which variables are the most important to predicting which patients are at high risk of readmission?\n",
    "\n",
    "I will use k-nearest neighbor (KNN) classification methods."
   ]
  },
  {
   "cell_type": "markdown",
   "id": "1712577b",
   "metadata": {},
   "source": [
    "**A2. The goal of the data analysis:**\n",
    "    \n",
    "The business will be able to identify which variables are the most important to predicting which patients are at high risk of readmission with some measure of confidence. This process will provide weight for making improvements to hospital services and treatments.   "
   ]
  },
  {
   "cell_type": "markdown",
   "id": "886a3264",
   "metadata": {},
   "source": [
    "# Part 2: Method Justification"
   ]
  },
  {
   "cell_type": "markdown",
   "id": "d353a132",
   "metadata": {},
   "source": [
    "**B1. Explanation of Classification Method (KNN):**\n",
    "\n",
    "The k-nearest neighbor is an algorithm based on the distance between a new point and each other's existing point.\n",
    "\n",
    "\"K Nearest Neighbor(KNN) is a very simple, easy to understand, versatile and one of the topmost machine learning algorithms. KNN used in the variety of applications such as finance, healthcare, political science, handwriting detection, image recognition and video recognition. KNN algorithm used for both classification and regression problems. KNN algorithm based on feature similarity approach.\" (Avinash Navlani, 2018)\n"
   ]
  },
  {
   "cell_type": "markdown",
   "id": "a20e5f0e",
   "metadata": {},
   "source": [
    "**B2. Assumption of the KNN classification method**\n",
    " \n",
    " According to Saravana, the KNN classification method is based on the following assumptions:\n",
    "\n",
    "- KNN assumes that the data is in a feature space. More precisely, the data points are in a metric space. The data can be scalars or possibly even multidimensional vectors.\n",
    "\n",
    "- KNN, can work equally well with an arbitrary number of classes.\n",
    "\n",
    "- We are also given a single number, \"k\". This number decides how many neighbors (where neighbors are defined based on the distance metric) influence the classification.\n",
    "\n",
    "(Saravana Thirumuruganathan, 2010)\n"
   ]
  },
  {
   "cell_type": "markdown",
   "id": "23baa846",
   "metadata": {},
   "source": [
    "**B3. Tool and technique:**\n",
    "\n",
    "I have many programming languages that I can use, such as R and Python, to achieve this process. In this assignment, I use Python to assess data quality, clean the data, and predict the data. Python is a multipurpose programming language with libraries that extend its capabilities to do statistical analysis. For the beginner, coding in Python is easy to read and easy to understand the flows of the program. Also, I will work with Python in the Jupyter notebooks as a convenient way to run code and visualizations and accessible to running documentation for my reference. \n",
    " \n",
    "The libraries and packages used to clean the data run in python environments such as Panda, NumPy, Scipy, Matplotlib, and Seaborn. These libraries and packages provide functionalities like reading large datasets like statistical functions like Zscore, creating visualization models like box plots and histograms. I also use Scikit-learn for KNeighbors Classifier.\n"
   ]
  },
  {
   "cell_type": "markdown",
   "id": "544b4def",
   "metadata": {},
   "source": [
    "# Part 3: Data Preparation"
   ]
  },
  {
   "cell_type": "markdown",
   "id": "3c7908d0",
   "metadata": {},
   "source": [
    "**C1. The data preprocessing:**\n",
    "\n",
    "I am encoding all multiple categories and binary categories.\n",
    "I am following all steps in C2 and C3.\n"
   ]
  },
  {
   "cell_type": "markdown",
   "id": "1ce5ccf6",
   "metadata": {},
   "source": [
    "**C2 and C3. Dataset Variables and Steps for preparation:**\n",
    "\n",
    "1. Install necessary packages\n",
    "2. Read and check the data set in Python using Pandas' read_csv command\n",
    "3. Naming the dataset as the variable \"medical_df\" and subsequent proper slices of the data frame as \"medical_df\".\n",
    "4. Evaluate the data structure to understand input data better\n",
    "5. Drop the less meaningful variables\n",
    "6. Re-validate column, null values and find missing values.\n",
    "7. Display any duplicate rows in the data frame.\n",
    "8. Categorical Encoding Values with multiple categories.\n",
    "9. Categorical Encoding Values with two types, Yes/No.\n",
    "10. Move target variable to the end of the dataset\n",
    "11. Creating histograms, boxplots, plot-bar of continuous variables, categorical variables \n",
    "12. Show the prepared data. ( The prepared data set copy C4)"
   ]
  },
  {
   "cell_type": "markdown",
   "id": "b66bd03f",
   "metadata": {},
   "source": [
    "I chose the medical dataset for this performance assignment by using medical_clean.cvs file.\n",
    "The medical_clean data set is 10000 patient records in the medical industry and 50 columns (variables).\n",
    "\n",
    "The dependent/target variable is 'ReAdmis' which is binary categorical with only two values, Yes or No.  .\n",
    "\n",
    "During this prepare process, will drop all less meaningful variables: 'CaseOrder','Customer_id','Interaction','UID','City','State','County','Zip','Lat','Lng','Population','Area','TimeZone','Job','Children','Marital','Gender','VitD_levels','Doc_visits','Full_meals_eaten','vitD_supp','Item1','Item2','Item3','Item4','Item5','Item6','Item7','Item8'\n",
    "\n",
    "Second, I will encoding all categorial values with multiple categories and two types yes/no values: 'ReAdmis','Soft_drink','Initial_admin','HighBlood','Stroke','Complication_risk','Overweight','Arthritis','Diabetes','Hyperlipidemia','BackPain','Anxiety','Allergic_rhinitis','Reflux_esophagitis','Asthma','Services'\n",
    "\n",
    "**Continuous predictor variables:** Age, Income, Initial_days, TotalCharge, Additional_charges\n",
    "\n",
    "**Categorical predictor variables:** Soft_drink, Initial_admin, HighBlood, Stroke, Complication_risk, Overweight, Arthritis, Diabetes, Hyperlipidemia, BackPain, Anxiety\tAllergic_rhinitis, Reflux_esophagitis, Asthma, Services\n",
    "\n",
    "Age: This variable indicates the patient’s age as provided by the patient. The variable represents customer demographic data. The data type is an integer.\n",
    "\n",
    "Income: This variable indicates the annual income of the patient (or the primary insurance holder) as provided by the patient. The variable represents customer demographic data. The data type is numeric.\n",
    "\n",
    "Initial_days: This variable indicates the number of days the patient stayed in the hospital during the initial visit. The data type is numeric. \n",
    "\n",
    "TotalCharge: This variable indicates the patient’s average daily charges for typical (not specialized) treatments and services during the initial visit. The data type is numeric.\n",
    "\n",
    "Additional_charges: This variable indicates the patient’s average daily charges for additional treatments and services during the initial visit. The data type is numeric.\n",
    "\n",
    "Gender: This variable indicates the patient’s gender as provided by the patient. The nominal categorical variable represents customer demographic data. The data type is a character string.\n",
    "\n",
    "Soft_drink: This variable indicates the whether or not the patient regularly drinks three or more sodas in a day.  This is a binary categorical variable. The value is yes/no. The data type is a character string.\n",
    "\n",
    "Initial_admin: This variable indicates how the patient was initially admitted into the hospital. The is the nominal categorical variable. The data type is a character string.\n",
    "\n",
    "HighBlood: This variable indicates whether or not the patient has high blood pressure. This is a binary categorical variable. The value is yes/no. The data type is a character string.\n",
    "\n",
    "Stroke: This variable indicates whether or not the patient has had a stroke. This is a binary categorical variable. The data type is a character string.\n",
    "\n",
    "Complication_risk: This variable indicates the level of complication risk. This is an ordinal categorical variable. The value is high/medium/low. The data type is a character string.\n",
    "\n",
    "Overweight: This variable indicates whether the patient is overweight, as determined by age, gender, and height. This is a binary categorical variable. The value is 1 for yes, and 0 for no. The data type is an integer.\n",
    "\n",
    "Arthritis: This variable indicates whether or not the patient has arthritis. This is a binary categorical variable. The value is yes/no. The data type is a character string.\n",
    "\n",
    "Diabetes: This variable indicates whether or not the patient has diabetes. This is a binary categorical variable. The value is yes/no. The data type is a character string.\n",
    "\n",
    "Hyperlipidemia: This variable indicates whether or not the patient has hyperlipidemia. This is a binary categorical variable. The value is yes/no. The data type is a character string.\n",
    "\n",
    "BackPain: This variable indicates whether or not the patient has chronic back pain. This is a binary categorical variable. The value is yes/no. The data type is a character string.\n",
    "\n",
    "Anxiety: This variable indicates whether the patient has an anxiety disorder. This is a binary categorical variable. The value is 1 for yes and 0 for no. The data type is an integer.\n",
    "\n",
    "Allergic_rhinitis: This variable indicates whether or not the patient has allergic rhinitis. This is a binary categorical variable. The value is yes/no. The data type is a character string.\n",
    "\n",
    "Reflux_esophagitis: This variable indicates whether or not the patient has reflux esophagitis. This is a binary categorical variable. The value is yes/no. The data type is a character string.\n",
    "\n",
    "Asthma: This variable indicates whether or not the patient has asthma. This is a binary categorical variable. The value is yes/no. The data type is a character string.\n",
    "\n",
    "Services: This variable indicates the primary service the patient received while hospitalized. This is a nominal categorical variable. The data type is a character string.\n"
   ]
  },
  {
   "cell_type": "markdown",
   "id": "6ee31199",
   "metadata": {},
   "source": [
    "**Explain the steps**"
   ]
  },
  {
   "cell_type": "code",
   "execution_count": 1,
   "id": "c20301d2",
   "metadata": {},
   "outputs": [
    {
     "name": "stdout",
     "output_type": "stream",
     "text": [
      "Requirement already satisfied: pandas in c:\\users\\chris mcgee\\anaconda3\\lib\\site-packages (1.2.4)\n",
      "Requirement already satisfied: pytz>=2017.3 in c:\\users\\chris mcgee\\anaconda3\\lib\\site-packages (from pandas) (2021.1)\n",
      "Requirement already satisfied: python-dateutil>=2.7.3 in c:\\users\\chris mcgee\\anaconda3\\lib\\site-packages (from pandas) (2.8.1)\n",
      "Requirement already satisfied: numpy>=1.16.5 in c:\\users\\chris mcgee\\anaconda3\\lib\\site-packages (from pandas) (1.20.1)\n",
      "Requirement already satisfied: six>=1.5 in c:\\users\\chris mcgee\\anaconda3\\lib\\site-packages (from python-dateutil>=2.7.3->pandas) (1.15.0)\n",
      "Requirement already satisfied: numpy in c:\\users\\chris mcgee\\anaconda3\\lib\\site-packages (1.20.1)\n",
      "Requirement already satisfied: scipy in c:\\users\\chris mcgee\\anaconda3\\lib\\site-packages (1.6.2)\n",
      "Requirement already satisfied: numpy<1.23.0,>=1.16.5 in c:\\users\\chris mcgee\\anaconda3\\lib\\site-packages (from scipy) (1.20.1)\n",
      "Requirement already satisfied: sklearn in c:\\users\\chris mcgee\\anaconda3\\lib\\site-packages (0.0)\n",
      "Requirement already satisfied: scikit-learn in c:\\users\\chris mcgee\\anaconda3\\lib\\site-packages (from sklearn) (0.24.1)\n",
      "Requirement already satisfied: joblib>=0.11 in c:\\users\\chris mcgee\\anaconda3\\lib\\site-packages (from scikit-learn->sklearn) (1.0.1)\n",
      "Requirement already satisfied: scipy>=0.19.1 in c:\\users\\chris mcgee\\anaconda3\\lib\\site-packages (from scikit-learn->sklearn) (1.6.2)\n",
      "Requirement already satisfied: threadpoolctl>=2.0.0 in c:\\users\\chris mcgee\\anaconda3\\lib\\site-packages (from scikit-learn->sklearn) (2.1.0)\n",
      "Requirement already satisfied: numpy>=1.13.3 in c:\\users\\chris mcgee\\anaconda3\\lib\\site-packages (from scikit-learn->sklearn) (1.20.1)\n",
      "Requirement already satisfied: matplotlib in c:\\users\\chris mcgee\\anaconda3\\lib\\site-packages (3.3.4)\n",
      "Requirement already satisfied: pillow>=6.2.0 in c:\\users\\chris mcgee\\anaconda3\\lib\\site-packages (from matplotlib) (8.2.0)\n",
      "Requirement already satisfied: kiwisolver>=1.0.1 in c:\\users\\chris mcgee\\anaconda3\\lib\\site-packages (from matplotlib) (1.3.1)\n",
      "Requirement already satisfied: pyparsing!=2.0.4,!=2.1.2,!=2.1.6,>=2.0.3 in c:\\users\\chris mcgee\\anaconda3\\lib\\site-packages (from matplotlib) (2.4.7)\n",
      "Requirement already satisfied: python-dateutil>=2.1 in c:\\users\\chris mcgee\\anaconda3\\lib\\site-packages (from matplotlib) (2.8.1)\n",
      "Requirement already satisfied: cycler>=0.10 in c:\\users\\chris mcgee\\anaconda3\\lib\\site-packages (from matplotlib) (0.10.0)\n",
      "Requirement already satisfied: numpy>=1.15 in c:\\users\\chris mcgee\\anaconda3\\lib\\site-packages (from matplotlib) (1.20.1)\n",
      "Requirement already satisfied: six in c:\\users\\chris mcgee\\anaconda3\\lib\\site-packages (from cycler>=0.10->matplotlib) (1.15.0)\n",
      "Requirement already satisfied: sns in c:\\users\\chris mcgee\\anaconda3\\lib\\site-packages (0.1)\n",
      "Requirement already satisfied: plotly in c:\\users\\chris mcgee\\anaconda3\\lib\\site-packages (5.4.0)\n",
      "Requirement already satisfied: six in c:\\users\\chris mcgee\\anaconda3\\lib\\site-packages (from plotly) (1.15.0)\n",
      "Requirement already satisfied: tenacity>=6.2.0 in c:\\users\\chris mcgee\\anaconda3\\lib\\site-packages (from plotly) (8.0.1)\n",
      "Requirement already satisfied: missingno in c:\\users\\chris mcgee\\anaconda3\\lib\\site-packages (0.5.0)\n",
      "Requirement already satisfied: seaborn in c:\\users\\chris mcgee\\anaconda3\\lib\\site-packages (from missingno) (0.11.1)\n",
      "Requirement already satisfied: numpy in c:\\users\\chris mcgee\\anaconda3\\lib\\site-packages (from missingno) (1.20.1)\n",
      "Requirement already satisfied: scipy in c:\\users\\chris mcgee\\anaconda3\\lib\\site-packages (from missingno) (1.6.2)\n",
      "Requirement already satisfied: matplotlib in c:\\users\\chris mcgee\\anaconda3\\lib\\site-packages (from missingno) (3.3.4)\n",
      "Requirement already satisfied: pillow>=6.2.0 in c:\\users\\chris mcgee\\anaconda3\\lib\\site-packages (from matplotlib->missingno) (8.2.0)\n",
      "Requirement already satisfied: cycler>=0.10 in c:\\users\\chris mcgee\\anaconda3\\lib\\site-packages (from matplotlib->missingno) (0.10.0)\n",
      "Requirement already satisfied: kiwisolver>=1.0.1 in c:\\users\\chris mcgee\\anaconda3\\lib\\site-packages (from matplotlib->missingno) (1.3.1)\n",
      "Requirement already satisfied: python-dateutil>=2.1 in c:\\users\\chris mcgee\\anaconda3\\lib\\site-packages (from matplotlib->missingno) (2.8.1)\n",
      "Requirement already satisfied: pyparsing!=2.0.4,!=2.1.2,!=2.1.6,>=2.0.3 in c:\\users\\chris mcgee\\anaconda3\\lib\\site-packages (from matplotlib->missingno) (2.4.7)\n",
      "Requirement already satisfied: six in c:\\users\\chris mcgee\\anaconda3\\lib\\site-packages (from cycler>=0.10->matplotlib->missingno) (1.15.0)\n",
      "Requirement already satisfied: pandas>=0.23 in c:\\users\\chris mcgee\\anaconda3\\lib\\site-packages (from seaborn->missingno) (1.2.4)\n",
      "Requirement already satisfied: pytz>=2017.3 in c:\\users\\chris mcgee\\anaconda3\\lib\\site-packages (from pandas>=0.23->seaborn->missingno) (2021.1)\n"
     ]
    }
   ],
   "source": [
    "#1. Install necessary packages\n",
    "\n",
    "# Install necessary packages\n",
    "!pip install pandas\n",
    "!pip install numpy\n",
    "!pip install scipy\n",
    "!pip install sklearn\n",
    "!pip install matplotlib\n",
    "!pip install sns\n",
    "!pip install plotly\n",
    "!pip install missingno\n",
    "# I'm sharing the computer with the family members. The file path may show his name. \n",
    "# Please watch the video to see the file path."
   ]
  },
  {
   "cell_type": "code",
   "execution_count": 2,
   "id": "c5dd838d",
   "metadata": {},
   "outputs": [],
   "source": [
    "# Ignor warning error\n",
    "import warnings\n",
    "warnings.filterwarnings('ignore')\n",
    "\n",
    "# Standard imports\n",
    "import os\n",
    "import sys\n",
    "import pandas as pd\n",
    "from pandas import Series, DataFrame\n",
    "import numpy as np\n",
    "import matplotlib.pyplot as plt\n",
    "import matplotlib.mlab as mlab\n",
    "import seaborn as sns\n",
    "from plotly.subplots import make_subplots\n",
    "import plotly.graph_objs as go\n",
    "import missingno as msno\n",
    "\n",
    "# Import Scikit-learn \n",
    "import sklearn\n",
    "from sklearn import preprocessing\n",
    "from sklearn.neighbors import KNeighborsClassifier\n",
    "from sklearn.model_selection import train_test_split\n",
    "from sklearn import metrics\n",
    "from sklearn.metrics import classification_report\n",
    "from sklearn.metrics import accuracy_score\n",
    "from sklearn.model_selection import cross_val_score, train_test_split\n"
   ]
  },
  {
   "cell_type": "code",
   "execution_count": 3,
   "id": "adcc0db0",
   "metadata": {},
   "outputs": [],
   "source": [
    "#2. Read and check the data set in Python using Pandas' read_csv command\n",
    "path = 'medical_clean.csv'\n",
    "medical_df_clean = pd.read_csv(path)"
   ]
  },
  {
   "cell_type": "code",
   "execution_count": 4,
   "id": "bed819bc",
   "metadata": {},
   "outputs": [
    {
     "data": {
      "text/html": [
       "<div>\n",
       "<style scoped>\n",
       "    .dataframe tbody tr th:only-of-type {\n",
       "        vertical-align: middle;\n",
       "    }\n",
       "\n",
       "    .dataframe tbody tr th {\n",
       "        vertical-align: top;\n",
       "    }\n",
       "\n",
       "    .dataframe thead th {\n",
       "        text-align: right;\n",
       "    }\n",
       "</style>\n",
       "<table border=\"1\" class=\"dataframe\">\n",
       "  <thead>\n",
       "    <tr style=\"text-align: right;\">\n",
       "      <th></th>\n",
       "      <th>CaseOrder</th>\n",
       "      <th>Customer_id</th>\n",
       "      <th>Interaction</th>\n",
       "      <th>UID</th>\n",
       "      <th>City</th>\n",
       "      <th>State</th>\n",
       "      <th>County</th>\n",
       "      <th>Zip</th>\n",
       "      <th>Lat</th>\n",
       "      <th>Lng</th>\n",
       "      <th>...</th>\n",
       "      <th>TotalCharge</th>\n",
       "      <th>Additional_charges</th>\n",
       "      <th>Item1</th>\n",
       "      <th>Item2</th>\n",
       "      <th>Item3</th>\n",
       "      <th>Item4</th>\n",
       "      <th>Item5</th>\n",
       "      <th>Item6</th>\n",
       "      <th>Item7</th>\n",
       "      <th>Item8</th>\n",
       "    </tr>\n",
       "  </thead>\n",
       "  <tbody>\n",
       "    <tr>\n",
       "      <th>0</th>\n",
       "      <td>1</td>\n",
       "      <td>C412403</td>\n",
       "      <td>8cd49b13-f45a-4b47-a2bd-173ffa932c2f</td>\n",
       "      <td>3a83ddb66e2ae73798bdf1d705dc0932</td>\n",
       "      <td>Eva</td>\n",
       "      <td>AL</td>\n",
       "      <td>Morgan</td>\n",
       "      <td>35621</td>\n",
       "      <td>34.34960</td>\n",
       "      <td>-86.72508</td>\n",
       "      <td>...</td>\n",
       "      <td>3726.702860</td>\n",
       "      <td>17939.403420</td>\n",
       "      <td>3</td>\n",
       "      <td>3</td>\n",
       "      <td>2</td>\n",
       "      <td>2</td>\n",
       "      <td>4</td>\n",
       "      <td>3</td>\n",
       "      <td>3</td>\n",
       "      <td>4</td>\n",
       "    </tr>\n",
       "    <tr>\n",
       "      <th>1</th>\n",
       "      <td>2</td>\n",
       "      <td>Z919181</td>\n",
       "      <td>d2450b70-0337-4406-bdbb-bc1037f1734c</td>\n",
       "      <td>176354c5eef714957d486009feabf195</td>\n",
       "      <td>Marianna</td>\n",
       "      <td>FL</td>\n",
       "      <td>Jackson</td>\n",
       "      <td>32446</td>\n",
       "      <td>30.84513</td>\n",
       "      <td>-85.22907</td>\n",
       "      <td>...</td>\n",
       "      <td>4193.190458</td>\n",
       "      <td>17612.998120</td>\n",
       "      <td>3</td>\n",
       "      <td>4</td>\n",
       "      <td>3</td>\n",
       "      <td>4</td>\n",
       "      <td>4</td>\n",
       "      <td>4</td>\n",
       "      <td>3</td>\n",
       "      <td>3</td>\n",
       "    </tr>\n",
       "    <tr>\n",
       "      <th>2</th>\n",
       "      <td>3</td>\n",
       "      <td>F995323</td>\n",
       "      <td>a2057123-abf5-4a2c-abad-8ffe33512562</td>\n",
       "      <td>e19a0fa00aeda885b8a436757e889bc9</td>\n",
       "      <td>Sioux Falls</td>\n",
       "      <td>SD</td>\n",
       "      <td>Minnehaha</td>\n",
       "      <td>57110</td>\n",
       "      <td>43.54321</td>\n",
       "      <td>-96.63772</td>\n",
       "      <td>...</td>\n",
       "      <td>2434.234222</td>\n",
       "      <td>17505.192460</td>\n",
       "      <td>2</td>\n",
       "      <td>4</td>\n",
       "      <td>4</td>\n",
       "      <td>4</td>\n",
       "      <td>3</td>\n",
       "      <td>4</td>\n",
       "      <td>3</td>\n",
       "      <td>3</td>\n",
       "    </tr>\n",
       "    <tr>\n",
       "      <th>3</th>\n",
       "      <td>4</td>\n",
       "      <td>A879973</td>\n",
       "      <td>1dec528d-eb34-4079-adce-0d7a40e82205</td>\n",
       "      <td>cd17d7b6d152cb6f23957346d11c3f07</td>\n",
       "      <td>New Richland</td>\n",
       "      <td>MN</td>\n",
       "      <td>Waseca</td>\n",
       "      <td>56072</td>\n",
       "      <td>43.89744</td>\n",
       "      <td>-93.51479</td>\n",
       "      <td>...</td>\n",
       "      <td>2127.830423</td>\n",
       "      <td>12993.437350</td>\n",
       "      <td>3</td>\n",
       "      <td>5</td>\n",
       "      <td>5</td>\n",
       "      <td>3</td>\n",
       "      <td>4</td>\n",
       "      <td>5</td>\n",
       "      <td>5</td>\n",
       "      <td>5</td>\n",
       "    </tr>\n",
       "    <tr>\n",
       "      <th>4</th>\n",
       "      <td>5</td>\n",
       "      <td>C544523</td>\n",
       "      <td>5885f56b-d6da-43a3-8760-83583af94266</td>\n",
       "      <td>d2f0425877b10ed6bb381f3e2579424a</td>\n",
       "      <td>West Point</td>\n",
       "      <td>VA</td>\n",
       "      <td>King William</td>\n",
       "      <td>23181</td>\n",
       "      <td>37.59894</td>\n",
       "      <td>-76.88958</td>\n",
       "      <td>...</td>\n",
       "      <td>2113.073274</td>\n",
       "      <td>3716.525786</td>\n",
       "      <td>2</td>\n",
       "      <td>1</td>\n",
       "      <td>3</td>\n",
       "      <td>3</td>\n",
       "      <td>5</td>\n",
       "      <td>3</td>\n",
       "      <td>4</td>\n",
       "      <td>3</td>\n",
       "    </tr>\n",
       "  </tbody>\n",
       "</table>\n",
       "<p>5 rows × 50 columns</p>\n",
       "</div>"
      ],
      "text/plain": [
       "   CaseOrder Customer_id                           Interaction  \\\n",
       "0          1     C412403  8cd49b13-f45a-4b47-a2bd-173ffa932c2f   \n",
       "1          2     Z919181  d2450b70-0337-4406-bdbb-bc1037f1734c   \n",
       "2          3     F995323  a2057123-abf5-4a2c-abad-8ffe33512562   \n",
       "3          4     A879973  1dec528d-eb34-4079-adce-0d7a40e82205   \n",
       "4          5     C544523  5885f56b-d6da-43a3-8760-83583af94266   \n",
       "\n",
       "                                UID          City State        County    Zip  \\\n",
       "0  3a83ddb66e2ae73798bdf1d705dc0932           Eva    AL        Morgan  35621   \n",
       "1  176354c5eef714957d486009feabf195      Marianna    FL       Jackson  32446   \n",
       "2  e19a0fa00aeda885b8a436757e889bc9   Sioux Falls    SD     Minnehaha  57110   \n",
       "3  cd17d7b6d152cb6f23957346d11c3f07  New Richland    MN        Waseca  56072   \n",
       "4  d2f0425877b10ed6bb381f3e2579424a    West Point    VA  King William  23181   \n",
       "\n",
       "        Lat       Lng  ...  TotalCharge Additional_charges Item1 Item2  Item3  \\\n",
       "0  34.34960 -86.72508  ...  3726.702860       17939.403420     3     3      2   \n",
       "1  30.84513 -85.22907  ...  4193.190458       17612.998120     3     4      3   \n",
       "2  43.54321 -96.63772  ...  2434.234222       17505.192460     2     4      4   \n",
       "3  43.89744 -93.51479  ...  2127.830423       12993.437350     3     5      5   \n",
       "4  37.59894 -76.88958  ...  2113.073274        3716.525786     2     1      3   \n",
       "\n",
       "   Item4  Item5 Item6 Item7 Item8  \n",
       "0      2      4     3     3     4  \n",
       "1      4      4     4     3     3  \n",
       "2      4      3     4     3     3  \n",
       "3      3      4     5     5     5  \n",
       "4      3      5     3     4     3  \n",
       "\n",
       "[5 rows x 50 columns]"
      ]
     },
     "execution_count": 4,
     "metadata": {},
     "output_type": "execute_result"
    }
   ],
   "source": [
    "#3.Display Medical dataframe\n",
    "medical_df = medical_df_clean.copy()\n",
    "medical_df.head()"
   ]
  },
  {
   "cell_type": "code",
   "execution_count": 5,
   "id": "7861545d",
   "metadata": {},
   "outputs": [
    {
     "name": "stdout",
     "output_type": "stream",
     "text": [
      "<class 'pandas.core.frame.DataFrame'>\n",
      "RangeIndex: 10000 entries, 0 to 9999\n",
      "Data columns (total 50 columns):\n",
      " #   Column              Non-Null Count  Dtype  \n",
      "---  ------              --------------  -----  \n",
      " 0   CaseOrder           10000 non-null  int64  \n",
      " 1   Customer_id         10000 non-null  object \n",
      " 2   Interaction         10000 non-null  object \n",
      " 3   UID                 10000 non-null  object \n",
      " 4   City                10000 non-null  object \n",
      " 5   State               10000 non-null  object \n",
      " 6   County              10000 non-null  object \n",
      " 7   Zip                 10000 non-null  int64  \n",
      " 8   Lat                 10000 non-null  float64\n",
      " 9   Lng                 10000 non-null  float64\n",
      " 10  Population          10000 non-null  int64  \n",
      " 11  Area                10000 non-null  object \n",
      " 12  TimeZone            10000 non-null  object \n",
      " 13  Job                 10000 non-null  object \n",
      " 14  Children            10000 non-null  int64  \n",
      " 15  Age                 10000 non-null  int64  \n",
      " 16  Income              10000 non-null  float64\n",
      " 17  Marital             10000 non-null  object \n",
      " 18  Gender              10000 non-null  object \n",
      " 19  ReAdmis             10000 non-null  object \n",
      " 20  VitD_levels         10000 non-null  float64\n",
      " 21  Doc_visits          10000 non-null  int64  \n",
      " 22  Full_meals_eaten    10000 non-null  int64  \n",
      " 23  vitD_supp           10000 non-null  int64  \n",
      " 24  Soft_drink          10000 non-null  object \n",
      " 25  Initial_admin       10000 non-null  object \n",
      " 26  HighBlood           10000 non-null  object \n",
      " 27  Stroke              10000 non-null  object \n",
      " 28  Complication_risk   10000 non-null  object \n",
      " 29  Overweight          10000 non-null  object \n",
      " 30  Arthritis           10000 non-null  object \n",
      " 31  Diabetes            10000 non-null  object \n",
      " 32  Hyperlipidemia      10000 non-null  object \n",
      " 33  BackPain            10000 non-null  object \n",
      " 34  Anxiety             10000 non-null  object \n",
      " 35  Allergic_rhinitis   10000 non-null  object \n",
      " 36  Reflux_esophagitis  10000 non-null  object \n",
      " 37  Asthma              10000 non-null  object \n",
      " 38  Services            10000 non-null  object \n",
      " 39  Initial_days        10000 non-null  float64\n",
      " 40  TotalCharge         10000 non-null  float64\n",
      " 41  Additional_charges  10000 non-null  float64\n",
      " 42  Item1               10000 non-null  int64  \n",
      " 43  Item2               10000 non-null  int64  \n",
      " 44  Item3               10000 non-null  int64  \n",
      " 45  Item4               10000 non-null  int64  \n",
      " 46  Item5               10000 non-null  int64  \n",
      " 47  Item6               10000 non-null  int64  \n",
      " 48  Item7               10000 non-null  int64  \n",
      " 49  Item8               10000 non-null  int64  \n",
      "dtypes: float64(7), int64(16), object(27)\n",
      "memory usage: 3.8+ MB\n"
     ]
    }
   ],
   "source": [
    "#4. Evaluate the data structure to understand input data better\n",
    "# Check the information of data\n",
    "medical_df.info()"
   ]
  },
  {
   "cell_type": "code",
   "execution_count": 6,
   "id": "54527b59",
   "metadata": {},
   "outputs": [
    {
     "data": {
      "text/html": [
       "<div>\n",
       "<style scoped>\n",
       "    .dataframe tbody tr th:only-of-type {\n",
       "        vertical-align: middle;\n",
       "    }\n",
       "\n",
       "    .dataframe tbody tr th {\n",
       "        vertical-align: top;\n",
       "    }\n",
       "\n",
       "    .dataframe thead th {\n",
       "        text-align: right;\n",
       "    }\n",
       "</style>\n",
       "<table border=\"1\" class=\"dataframe\">\n",
       "  <thead>\n",
       "    <tr style=\"text-align: right;\">\n",
       "      <th></th>\n",
       "      <th>CaseOrder</th>\n",
       "      <th>Zip</th>\n",
       "      <th>Lat</th>\n",
       "      <th>Lng</th>\n",
       "      <th>Population</th>\n",
       "      <th>Children</th>\n",
       "      <th>Age</th>\n",
       "      <th>Income</th>\n",
       "      <th>VitD_levels</th>\n",
       "      <th>Doc_visits</th>\n",
       "      <th>...</th>\n",
       "      <th>TotalCharge</th>\n",
       "      <th>Additional_charges</th>\n",
       "      <th>Item1</th>\n",
       "      <th>Item2</th>\n",
       "      <th>Item3</th>\n",
       "      <th>Item4</th>\n",
       "      <th>Item5</th>\n",
       "      <th>Item6</th>\n",
       "      <th>Item7</th>\n",
       "      <th>Item8</th>\n",
       "    </tr>\n",
       "  </thead>\n",
       "  <tbody>\n",
       "    <tr>\n",
       "      <th>count</th>\n",
       "      <td>10000.00000</td>\n",
       "      <td>10000.000000</td>\n",
       "      <td>10000.000000</td>\n",
       "      <td>10000.000000</td>\n",
       "      <td>10000.000000</td>\n",
       "      <td>10000.000000</td>\n",
       "      <td>10000.000000</td>\n",
       "      <td>10000.000000</td>\n",
       "      <td>10000.000000</td>\n",
       "      <td>10000.000000</td>\n",
       "      <td>...</td>\n",
       "      <td>10000.000000</td>\n",
       "      <td>10000.000000</td>\n",
       "      <td>10000.000000</td>\n",
       "      <td>10000.000000</td>\n",
       "      <td>10000.000000</td>\n",
       "      <td>10000.000000</td>\n",
       "      <td>10000.000000</td>\n",
       "      <td>10000.000000</td>\n",
       "      <td>10000.000000</td>\n",
       "      <td>10000.000000</td>\n",
       "    </tr>\n",
       "    <tr>\n",
       "      <th>mean</th>\n",
       "      <td>5000.50000</td>\n",
       "      <td>50159.323900</td>\n",
       "      <td>38.751099</td>\n",
       "      <td>-91.243080</td>\n",
       "      <td>9965.253800</td>\n",
       "      <td>2.097200</td>\n",
       "      <td>53.511700</td>\n",
       "      <td>40490.495160</td>\n",
       "      <td>17.964262</td>\n",
       "      <td>5.012200</td>\n",
       "      <td>...</td>\n",
       "      <td>5312.172769</td>\n",
       "      <td>12934.528587</td>\n",
       "      <td>3.518800</td>\n",
       "      <td>3.506700</td>\n",
       "      <td>3.511100</td>\n",
       "      <td>3.515100</td>\n",
       "      <td>3.496900</td>\n",
       "      <td>3.522500</td>\n",
       "      <td>3.494000</td>\n",
       "      <td>3.509700</td>\n",
       "    </tr>\n",
       "    <tr>\n",
       "      <th>std</th>\n",
       "      <td>2886.89568</td>\n",
       "      <td>27469.588208</td>\n",
       "      <td>5.403085</td>\n",
       "      <td>15.205998</td>\n",
       "      <td>14824.758614</td>\n",
       "      <td>2.163659</td>\n",
       "      <td>20.638538</td>\n",
       "      <td>28521.153293</td>\n",
       "      <td>2.017231</td>\n",
       "      <td>1.045734</td>\n",
       "      <td>...</td>\n",
       "      <td>2180.393838</td>\n",
       "      <td>6542.601544</td>\n",
       "      <td>1.031966</td>\n",
       "      <td>1.034825</td>\n",
       "      <td>1.032755</td>\n",
       "      <td>1.036282</td>\n",
       "      <td>1.030192</td>\n",
       "      <td>1.032376</td>\n",
       "      <td>1.021405</td>\n",
       "      <td>1.042312</td>\n",
       "    </tr>\n",
       "    <tr>\n",
       "      <th>min</th>\n",
       "      <td>1.00000</td>\n",
       "      <td>610.000000</td>\n",
       "      <td>17.967190</td>\n",
       "      <td>-174.209700</td>\n",
       "      <td>0.000000</td>\n",
       "      <td>0.000000</td>\n",
       "      <td>18.000000</td>\n",
       "      <td>154.080000</td>\n",
       "      <td>9.806483</td>\n",
       "      <td>1.000000</td>\n",
       "      <td>...</td>\n",
       "      <td>1938.312067</td>\n",
       "      <td>3125.703000</td>\n",
       "      <td>1.000000</td>\n",
       "      <td>1.000000</td>\n",
       "      <td>1.000000</td>\n",
       "      <td>1.000000</td>\n",
       "      <td>1.000000</td>\n",
       "      <td>1.000000</td>\n",
       "      <td>1.000000</td>\n",
       "      <td>1.000000</td>\n",
       "    </tr>\n",
       "    <tr>\n",
       "      <th>25%</th>\n",
       "      <td>2500.75000</td>\n",
       "      <td>27592.000000</td>\n",
       "      <td>35.255120</td>\n",
       "      <td>-97.352982</td>\n",
       "      <td>694.750000</td>\n",
       "      <td>0.000000</td>\n",
       "      <td>36.000000</td>\n",
       "      <td>19598.775000</td>\n",
       "      <td>16.626439</td>\n",
       "      <td>4.000000</td>\n",
       "      <td>...</td>\n",
       "      <td>3179.374015</td>\n",
       "      <td>7986.487755</td>\n",
       "      <td>3.000000</td>\n",
       "      <td>3.000000</td>\n",
       "      <td>3.000000</td>\n",
       "      <td>3.000000</td>\n",
       "      <td>3.000000</td>\n",
       "      <td>3.000000</td>\n",
       "      <td>3.000000</td>\n",
       "      <td>3.000000</td>\n",
       "    </tr>\n",
       "    <tr>\n",
       "      <th>50%</th>\n",
       "      <td>5000.50000</td>\n",
       "      <td>50207.000000</td>\n",
       "      <td>39.419355</td>\n",
       "      <td>-88.397230</td>\n",
       "      <td>2769.000000</td>\n",
       "      <td>1.000000</td>\n",
       "      <td>53.000000</td>\n",
       "      <td>33768.420000</td>\n",
       "      <td>17.951122</td>\n",
       "      <td>5.000000</td>\n",
       "      <td>...</td>\n",
       "      <td>5213.952000</td>\n",
       "      <td>11573.977735</td>\n",
       "      <td>4.000000</td>\n",
       "      <td>3.000000</td>\n",
       "      <td>4.000000</td>\n",
       "      <td>4.000000</td>\n",
       "      <td>3.000000</td>\n",
       "      <td>4.000000</td>\n",
       "      <td>3.000000</td>\n",
       "      <td>3.000000</td>\n",
       "    </tr>\n",
       "    <tr>\n",
       "      <th>75%</th>\n",
       "      <td>7500.25000</td>\n",
       "      <td>72411.750000</td>\n",
       "      <td>42.044175</td>\n",
       "      <td>-80.438050</td>\n",
       "      <td>13945.000000</td>\n",
       "      <td>3.000000</td>\n",
       "      <td>71.000000</td>\n",
       "      <td>54296.402500</td>\n",
       "      <td>19.347963</td>\n",
       "      <td>6.000000</td>\n",
       "      <td>...</td>\n",
       "      <td>7459.699750</td>\n",
       "      <td>15626.490000</td>\n",
       "      <td>4.000000</td>\n",
       "      <td>4.000000</td>\n",
       "      <td>4.000000</td>\n",
       "      <td>4.000000</td>\n",
       "      <td>4.000000</td>\n",
       "      <td>4.000000</td>\n",
       "      <td>4.000000</td>\n",
       "      <td>4.000000</td>\n",
       "    </tr>\n",
       "    <tr>\n",
       "      <th>max</th>\n",
       "      <td>10000.00000</td>\n",
       "      <td>99929.000000</td>\n",
       "      <td>70.560990</td>\n",
       "      <td>-65.290170</td>\n",
       "      <td>122814.000000</td>\n",
       "      <td>10.000000</td>\n",
       "      <td>89.000000</td>\n",
       "      <td>207249.100000</td>\n",
       "      <td>26.394449</td>\n",
       "      <td>9.000000</td>\n",
       "      <td>...</td>\n",
       "      <td>9180.728000</td>\n",
       "      <td>30566.070000</td>\n",
       "      <td>8.000000</td>\n",
       "      <td>7.000000</td>\n",
       "      <td>8.000000</td>\n",
       "      <td>7.000000</td>\n",
       "      <td>7.000000</td>\n",
       "      <td>7.000000</td>\n",
       "      <td>7.000000</td>\n",
       "      <td>7.000000</td>\n",
       "    </tr>\n",
       "  </tbody>\n",
       "</table>\n",
       "<p>8 rows × 23 columns</p>\n",
       "</div>"
      ],
      "text/plain": [
       "         CaseOrder           Zip           Lat           Lng     Population  \\\n",
       "count  10000.00000  10000.000000  10000.000000  10000.000000   10000.000000   \n",
       "mean    5000.50000  50159.323900     38.751099    -91.243080    9965.253800   \n",
       "std     2886.89568  27469.588208      5.403085     15.205998   14824.758614   \n",
       "min        1.00000    610.000000     17.967190   -174.209700       0.000000   \n",
       "25%     2500.75000  27592.000000     35.255120    -97.352982     694.750000   \n",
       "50%     5000.50000  50207.000000     39.419355    -88.397230    2769.000000   \n",
       "75%     7500.25000  72411.750000     42.044175    -80.438050   13945.000000   \n",
       "max    10000.00000  99929.000000     70.560990    -65.290170  122814.000000   \n",
       "\n",
       "           Children           Age         Income   VitD_levels    Doc_visits  \\\n",
       "count  10000.000000  10000.000000   10000.000000  10000.000000  10000.000000   \n",
       "mean       2.097200     53.511700   40490.495160     17.964262      5.012200   \n",
       "std        2.163659     20.638538   28521.153293      2.017231      1.045734   \n",
       "min        0.000000     18.000000     154.080000      9.806483      1.000000   \n",
       "25%        0.000000     36.000000   19598.775000     16.626439      4.000000   \n",
       "50%        1.000000     53.000000   33768.420000     17.951122      5.000000   \n",
       "75%        3.000000     71.000000   54296.402500     19.347963      6.000000   \n",
       "max       10.000000     89.000000  207249.100000     26.394449      9.000000   \n",
       "\n",
       "       ...   TotalCharge  Additional_charges         Item1         Item2  \\\n",
       "count  ...  10000.000000        10000.000000  10000.000000  10000.000000   \n",
       "mean   ...   5312.172769        12934.528587      3.518800      3.506700   \n",
       "std    ...   2180.393838         6542.601544      1.031966      1.034825   \n",
       "min    ...   1938.312067         3125.703000      1.000000      1.000000   \n",
       "25%    ...   3179.374015         7986.487755      3.000000      3.000000   \n",
       "50%    ...   5213.952000        11573.977735      4.000000      3.000000   \n",
       "75%    ...   7459.699750        15626.490000      4.000000      4.000000   \n",
       "max    ...   9180.728000        30566.070000      8.000000      7.000000   \n",
       "\n",
       "              Item3         Item4         Item5         Item6         Item7  \\\n",
       "count  10000.000000  10000.000000  10000.000000  10000.000000  10000.000000   \n",
       "mean       3.511100      3.515100      3.496900      3.522500      3.494000   \n",
       "std        1.032755      1.036282      1.030192      1.032376      1.021405   \n",
       "min        1.000000      1.000000      1.000000      1.000000      1.000000   \n",
       "25%        3.000000      3.000000      3.000000      3.000000      3.000000   \n",
       "50%        4.000000      4.000000      3.000000      4.000000      3.000000   \n",
       "75%        4.000000      4.000000      4.000000      4.000000      4.000000   \n",
       "max        8.000000      7.000000      7.000000      7.000000      7.000000   \n",
       "\n",
       "              Item8  \n",
       "count  10000.000000  \n",
       "mean       3.509700  \n",
       "std        1.042312  \n",
       "min        1.000000  \n",
       "25%        3.000000  \n",
       "50%        3.000000  \n",
       "75%        4.000000  \n",
       "max        7.000000  \n",
       "\n",
       "[8 rows x 23 columns]"
      ]
     },
     "execution_count": 6,
     "metadata": {},
     "output_type": "execute_result"
    }
   ],
   "source": [
    "# Describe Churn dataset statistics\n",
    "medical_df.describe()"
   ]
  },
  {
   "cell_type": "code",
   "execution_count": 7,
   "id": "bdb6a4cd",
   "metadata": {},
   "outputs": [
    {
     "data": {
      "text/html": [
       "<div>\n",
       "<style scoped>\n",
       "    .dataframe tbody tr th:only-of-type {\n",
       "        vertical-align: middle;\n",
       "    }\n",
       "\n",
       "    .dataframe tbody tr th {\n",
       "        vertical-align: top;\n",
       "    }\n",
       "\n",
       "    .dataframe thead th {\n",
       "        text-align: right;\n",
       "    }\n",
       "</style>\n",
       "<table border=\"1\" class=\"dataframe\">\n",
       "  <thead>\n",
       "    <tr style=\"text-align: right;\">\n",
       "      <th></th>\n",
       "      <th>Age</th>\n",
       "      <th>Income</th>\n",
       "      <th>Initial_days</th>\n",
       "      <th>TotalCharge</th>\n",
       "      <th>Additional_charges</th>\n",
       "    </tr>\n",
       "  </thead>\n",
       "  <tbody>\n",
       "    <tr>\n",
       "      <th>count</th>\n",
       "      <td>10000.000000</td>\n",
       "      <td>10000.000000</td>\n",
       "      <td>10000.000000</td>\n",
       "      <td>10000.000000</td>\n",
       "      <td>10000.000000</td>\n",
       "    </tr>\n",
       "    <tr>\n",
       "      <th>mean</th>\n",
       "      <td>53.511700</td>\n",
       "      <td>40490.495160</td>\n",
       "      <td>34.455299</td>\n",
       "      <td>5312.172769</td>\n",
       "      <td>12934.528587</td>\n",
       "    </tr>\n",
       "    <tr>\n",
       "      <th>std</th>\n",
       "      <td>20.638538</td>\n",
       "      <td>28521.153293</td>\n",
       "      <td>26.309341</td>\n",
       "      <td>2180.393838</td>\n",
       "      <td>6542.601544</td>\n",
       "    </tr>\n",
       "    <tr>\n",
       "      <th>min</th>\n",
       "      <td>18.000000</td>\n",
       "      <td>154.080000</td>\n",
       "      <td>1.001981</td>\n",
       "      <td>1938.312067</td>\n",
       "      <td>3125.703000</td>\n",
       "    </tr>\n",
       "    <tr>\n",
       "      <th>25%</th>\n",
       "      <td>36.000000</td>\n",
       "      <td>19598.775000</td>\n",
       "      <td>7.896215</td>\n",
       "      <td>3179.374015</td>\n",
       "      <td>7986.487755</td>\n",
       "    </tr>\n",
       "    <tr>\n",
       "      <th>50%</th>\n",
       "      <td>53.000000</td>\n",
       "      <td>33768.420000</td>\n",
       "      <td>35.836244</td>\n",
       "      <td>5213.952000</td>\n",
       "      <td>11573.977735</td>\n",
       "    </tr>\n",
       "    <tr>\n",
       "      <th>75%</th>\n",
       "      <td>71.000000</td>\n",
       "      <td>54296.402500</td>\n",
       "      <td>61.161020</td>\n",
       "      <td>7459.699750</td>\n",
       "      <td>15626.490000</td>\n",
       "    </tr>\n",
       "    <tr>\n",
       "      <th>max</th>\n",
       "      <td>89.000000</td>\n",
       "      <td>207249.100000</td>\n",
       "      <td>71.981490</td>\n",
       "      <td>9180.728000</td>\n",
       "      <td>30566.070000</td>\n",
       "    </tr>\n",
       "  </tbody>\n",
       "</table>\n",
       "</div>"
      ],
      "text/plain": [
       "                Age         Income  Initial_days   TotalCharge  \\\n",
       "count  10000.000000   10000.000000  10000.000000  10000.000000   \n",
       "mean      53.511700   40490.495160     34.455299   5312.172769   \n",
       "std       20.638538   28521.153293     26.309341   2180.393838   \n",
       "min       18.000000     154.080000      1.001981   1938.312067   \n",
       "25%       36.000000   19598.775000      7.896215   3179.374015   \n",
       "50%       53.000000   33768.420000     35.836244   5213.952000   \n",
       "75%       71.000000   54296.402500     61.161020   7459.699750   \n",
       "max       89.000000  207249.100000     71.981490   9180.728000   \n",
       "\n",
       "       Additional_charges  \n",
       "count        10000.000000  \n",
       "mean         12934.528587  \n",
       "std           6542.601544  \n",
       "min           3125.703000  \n",
       "25%           7986.487755  \n",
       "50%          11573.977735  \n",
       "75%          15626.490000  \n",
       "max          30566.070000  "
      ]
     },
     "execution_count": 7,
     "metadata": {},
     "output_type": "execute_result"
    }
   ],
   "source": [
    "#5. Drop the original categorical and less meaningful variables\n",
    "medical_df = medical_df.drop(columns=['CaseOrder','Customer_id','Interaction','UID','City','State','County','Zip',\n",
    "                                      'Lat','Lng','Population','Area','TimeZone','Job','Children','Marital','VitD_levels',\n",
    "                                      'Doc_visits','Full_meals_eaten','vitD_supp','Item1','Item2','Item3','Item4','Item5',\n",
    "                                      'Item6','Item7','Item8', 'Gender'])\n",
    "medical_df.describe()\n",
    "\n"
   ]
  },
  {
   "cell_type": "code",
   "execution_count": 8,
   "id": "d07f0c35",
   "metadata": {},
   "outputs": [
    {
     "data": {
      "text/plain": [
       "{int64: ['Age'], float64: ['Income', 'Initial_days', 'TotalCharge', 'Additional_charges'], object: ['ReAdmis', 'Soft_drink', 'Initial_admin', 'HighBlood', 'Stroke', 'Complication_risk', 'Overweight', 'Arthritis', 'Diabetes', 'Hyperlipidemia', 'BackPain', 'Anxiety', 'Allergic_rhinitis', 'Reflux_esophagitis', 'Asthma', 'Services']}"
      ]
     },
     "execution_count": 8,
     "metadata": {},
     "output_type": "execute_result"
    }
   ],
   "source": [
    "#6. Re-validate column data types and missing value\n",
    "\n",
    "medical_df.columns.to_series().groupby(medical_df.dtypes).groups\n"
   ]
  },
  {
   "cell_type": "code",
   "execution_count": 9,
   "id": "b28ceedd",
   "metadata": {},
   "outputs": [
    {
     "name": "stdout",
     "output_type": "stream",
     "text": [
      "0\n"
     ]
    }
   ],
   "source": [
    "# check null values\n",
    "df = medical_df.columns\n",
    "data_nulls = df.isnull().sum()\n",
    "print(data_nulls)"
   ]
  },
  {
   "cell_type": "code",
   "execution_count": 10,
   "id": "0d22d87c",
   "metadata": {},
   "outputs": [
    {
     "name": "stdout",
     "output_type": "stream",
     "text": [
      "no missing values left\n"
     ]
    }
   ],
   "source": [
    "# check missing data and its size\n",
    "def missing_cols(medical_df):\n",
    "    '''prints out columns with its amount of missing values'''\n",
    "    total = 0\n",
    "    for col in medical_df.columns:\n",
    "        missing_vals = medical_df[col].isnull().sum()\n",
    "        total += missing_vals\n",
    "        if missing_vals != 0:\n",
    "            print(f\"{col} => {medical_df[col].isnull().sum()}\")\n",
    "    \n",
    "    if total == 0:\n",
    "        print(\"no missing values left\")\n",
    "            \n",
    "missing_cols(medical_df)"
   ]
  },
  {
   "cell_type": "code",
   "execution_count": 11,
   "id": "5b042ed7",
   "metadata": {},
   "outputs": [
    {
     "name": "stdout",
     "output_type": "stream",
     "text": [
      "Empty DataFrame\n",
      "Columns: [Age, Income, ReAdmis, Soft_drink, Initial_admin, HighBlood, Stroke, Complication_risk, Overweight, Arthritis, Diabetes, Hyperlipidemia, BackPain, Anxiety, Allergic_rhinitis, Reflux_esophagitis, Asthma, Services, Initial_days, TotalCharge, Additional_charges]\n",
      "Index: []\n",
      "\n",
      "[0 rows x 21 columns]\n"
     ]
    }
   ],
   "source": [
    "#7. Display any duplicate rows in the dataframe.\n",
    "data_duplicates = medical_df.loc[medical_df.duplicated()]\n",
    "print(data_duplicates)"
   ]
  },
  {
   "cell_type": "code",
   "execution_count": 12,
   "id": "0fd44a59",
   "metadata": {},
   "outputs": [],
   "source": [
    "#9. Categorical Encoding Values with multiple categories.\n",
    "\n",
    "cleanup_nums = {\"Initial_admin\":        {\"Emergency Admission\":     0, \n",
    "                                        \"Elective Admission\":       1 , \n",
    "                                       \"Observation Admission\":    2\n",
    "                                        },\n",
    "               \"Complication_risk\":    {\"High\":    0, \n",
    "                                        \"Medium\":   1, \n",
    "                                        \"Low\":      2\n",
    "                                        },\n",
    "               \"Services\":        {\"Blood Work\":       0, \n",
    "                                   \"Intravenous\":      1 , \n",
    "                                   \"CT Scan\":          2,\n",
    "                                   \"MRI\":              3\n",
    "                                    },\n",
    "               }\n",
    "medical_df = medical_df.replace(cleanup_nums)"
   ]
  },
  {
   "cell_type": "code",
   "execution_count": 13,
   "id": "9e196766",
   "metadata": {},
   "outputs": [],
   "source": [
    "#10. Encoding Categorical Values with two categories, Yes/No \n",
    "\n",
    "medical_df[\"ReAdmis\"] = np.where(medical_df[\"ReAdmis\"].str.contains(\"Yes\"), 1, 0)\n",
    "medical_df[\"Soft_drink\"] = np.where(medical_df[\"Soft_drink\"].str.contains(\"Yes\"), 1, 0)\n",
    "medical_df[\"HighBlood\"] = np.where(medical_df[\"HighBlood\"].str.contains(\"Yes\"), 1, 0)\n",
    "medical_df[\"Stroke\"] = np.where(medical_df[\"Stroke\"].str.contains(\"Yes\"), 1, 0)\n",
    "medical_df[\"Overweight\"] = np.where(medical_df[\"Overweight\"].str.contains(\"Yes\"), 1, 0)\n",
    "medical_df[\"Arthritis\"] = np.where(medical_df[\"Arthritis\"].str.contains(\"Yes\"), 1, 0)\n",
    "medical_df[\"Hyperlipidemia\"] = np.where(medical_df[\"Hyperlipidemia\"].str.contains(\"Yes\"), 1, 0)\n",
    "medical_df[\"Diabetes\"] = np.where(medical_df[\"Diabetes\"].str.contains(\"Yes\"), 1, 0)\n",
    "medical_df[\"BackPain\"] = np.where(medical_df[\"BackPain\"].str.contains(\"Yes\"), 1, 0)\n",
    "medical_df[\"Anxiety\"] = np.where(medical_df[\"Anxiety\"].str.contains(\"Yes\"), 1, 0)\n",
    "medical_df[\"Allergic_rhinitis\"] = np.where(medical_df[\"Allergic_rhinitis\"].str.contains(\"Yes\"), 1, 0)\n",
    "medical_df[\"Reflux_esophagitis\"] = np.where(medical_df[\"Reflux_esophagitis\"].str.contains(\"Yes\"), 1, 0)\n",
    "medical_df[\"Asthma\"] = np.where(medical_df[\"Asthma\"].str.contains(\"Yes\"), 1, 0)\n"
   ]
  },
  {
   "cell_type": "code",
   "execution_count": 14,
   "id": "2fc288c3",
   "metadata": {},
   "outputs": [
    {
     "data": {
      "text/plain": [
       "array([0, 1])"
      ]
     },
     "execution_count": 14,
     "metadata": {},
     "output_type": "execute_result"
    }
   ],
   "source": [
    "#Check what values are assigned in the variables.\n",
    "medical_df['ReAdmis'].unique() "
   ]
  },
  {
   "cell_type": "code",
   "execution_count": 15,
   "id": "71ca4709",
   "metadata": {},
   "outputs": [
    {
     "data": {
      "text/plain": [
       "array([1, 0, 2], dtype=int64)"
      ]
     },
     "execution_count": 15,
     "metadata": {},
     "output_type": "execute_result"
    }
   ],
   "source": [
    "#Check what values are assigned in the variables.\n",
    "medical_df['Complication_risk'].unique() "
   ]
  },
  {
   "cell_type": "code",
   "execution_count": 16,
   "id": "6372176c",
   "metadata": {},
   "outputs": [],
   "source": [
    "#10. Move target variable to the end of the dataset - reAdmis\n",
    "\n",
    "medical_df = medical_df[['Age', 'Income', 'Soft_drink', 'Initial_admin', 'HighBlood', \n",
    "                         'Stroke', 'Complication_risk', 'Overweight', 'Arthritis', 'Diabetes', \n",
    "                         'Hyperlipidemia', 'BackPain', 'Anxiety', 'Allergic_rhinitis', 'Reflux_esophagitis', \n",
    "                         'Asthma', 'Services', 'Initial_days', 'TotalCharge', 'Additional_charges', 'ReAdmis']]"
   ]
  },
  {
   "cell_type": "code",
   "execution_count": 17,
   "id": "b2e0556f",
   "metadata": {},
   "outputs": [
    {
     "data": {
      "image/png": "[encoded data removed]",
      "text/plain": [
       "<Figure size 432x288 with 6 Axes>"
      ]
     },
     "metadata": {
      "needs_background": "light"
     },
     "output_type": "display_data"
    }
   ],
   "source": [
    "#11. Check distribution by creating histograms of continuous variables \n",
    "medical_df[['Age','Income','Initial_days','TotalCharge','Additional_charges']].hist()\n",
    "plt.savefig('medical_continuos_pyplot.jpg')\n",
    "plt.tight_layout()"
   ]
  },
  {
   "cell_type": "code",
   "execution_count": 18,
   "id": "394ccff7",
   "metadata": {},
   "outputs": [
    {
     "data": {
      "image/png": "[encoded data removed]",
      "text/plain": [
       "<Figure size 432x288 with 16 Axes>"
      ]
     },
     "metadata": {
      "needs_background": "light"
     },
     "output_type": "display_data"
    }
   ],
   "source": [
    "# Check distribution by createing histograms of categorical variables \n",
    "medical_df[['ReAdmis','Soft_drink','HighBlood', 'Stroke', 'Overweight',\n",
    "           'Arthritis', 'Diabetes', 'Hyperlipidemia', 'BackPain', 'Anxiety',\n",
    "           'Allergic_rhinitis', 'Reflux_esophagitis', 'Asthma']].hist()\n",
    "plt.savefig('medical_cont_pyplot.jpg')\n",
    "plt.tight_layout()\n"
   ]
  },
  {
   "cell_type": "code",
   "execution_count": 19,
   "id": "c746e5e0",
   "metadata": {},
   "outputs": [
    {
     "data": {
      "image/png": "[encoded data removed]",
      "text/plain": [
       "<Figure size 432x288 with 1 Axes>"
      ]
     },
     "metadata": {
      "needs_background": "light"
     },
     "output_type": "display_data"
    }
   ],
   "source": [
    "medical_df.boxplot(['Initial_days'])\n",
    "plt.savefig('medical_boxplots_Initial_days.jpg')"
   ]
  },
  {
   "cell_type": "code",
   "execution_count": 20,
   "id": "d4f1ec5f",
   "metadata": {},
   "outputs": [
    {
     "data": {
      "image/png": "[encoded data removed]",
      "text/plain": [
       "<Figure size 432x288 with 1 Axes>"
      ]
     },
     "metadata": {
      "needs_background": "light"
     },
     "output_type": "display_data"
    }
   ],
   "source": [
    "medical_df.boxplot(['TotalCharge'])\n",
    "plt.savefig('medical_boxplots_TotalCharge.jpg')"
   ]
  },
  {
   "cell_type": "code",
   "execution_count": 21,
   "id": "540c10ac",
   "metadata": {},
   "outputs": [
    {
     "data": {
      "image/png": "[encoded data removed]",
      "text/plain": [
       "<Figure size 432x288 with 1 Axes>"
      ]
     },
     "metadata": {
      "needs_background": "light"
     },
     "output_type": "display_data"
    }
   ],
   "source": [
    "medical_df.boxplot(['Additional_charges'])\n",
    "plt.savefig('medical_boxplots_AdditionalCharge.jpg')"
   ]
  },
  {
   "cell_type": "code",
   "execution_count": 22,
   "id": "57f0e017",
   "metadata": {},
   "outputs": [
    {
     "data": {
      "text/plain": [
       "Age\n",
       "18    133\n",
       "19    137\n",
       "20    120\n",
       "21    125\n",
       "22    141\n",
       "     ... \n",
       "85    135\n",
       "86    156\n",
       "87    136\n",
       "88    143\n",
       "89    132\n",
       "Length: 72, dtype: int64"
      ]
     },
     "execution_count": 22,
     "metadata": {},
     "output_type": "execute_result"
    }
   ],
   "source": [
    "AgeGroup = medical_df.groupby(by = 'Age').size()\n",
    "AgeGroup"
   ]
  },
  {
   "cell_type": "code",
   "execution_count": 23,
   "id": "3e0c229e",
   "metadata": {},
   "outputs": [
    {
     "data": {
      "text/plain": [
       "<AxesSubplot:xlabel='Age'>"
      ]
     },
     "execution_count": 23,
     "metadata": {},
     "output_type": "execute_result"
    },
    {
     "data": {
      "image/png": "[encoded data removed]",
      "text/plain": [
       "<Figure size 432x288 with 1 Axes>"
      ]
     },
     "metadata": {
      "needs_background": "light"
     },
     "output_type": "display_data"
    }
   ],
   "source": [
    "%matplotlib inline\n",
    "AgeGroup.plot.bar()"
   ]
  },
  {
   "cell_type": "code",
   "execution_count": 24,
   "id": "fd59650f",
   "metadata": {},
   "outputs": [
    {
     "data": {
      "text/html": [
       "<div>\n",
       "<style scoped>\n",
       "    .dataframe tbody tr th:only-of-type {\n",
       "        vertical-align: middle;\n",
       "    }\n",
       "\n",
       "    .dataframe tbody tr th {\n",
       "        vertical-align: top;\n",
       "    }\n",
       "\n",
       "    .dataframe thead th {\n",
       "        text-align: right;\n",
       "    }\n",
       "</style>\n",
       "<table border=\"1\" class=\"dataframe\">\n",
       "  <thead>\n",
       "    <tr style=\"text-align: right;\">\n",
       "      <th></th>\n",
       "      <th>Age</th>\n",
       "      <th>Income</th>\n",
       "      <th>Soft_drink</th>\n",
       "      <th>Initial_admin</th>\n",
       "      <th>HighBlood</th>\n",
       "      <th>Stroke</th>\n",
       "      <th>Complication_risk</th>\n",
       "      <th>Overweight</th>\n",
       "      <th>Arthritis</th>\n",
       "      <th>Diabetes</th>\n",
       "      <th>...</th>\n",
       "      <th>BackPain</th>\n",
       "      <th>Anxiety</th>\n",
       "      <th>Allergic_rhinitis</th>\n",
       "      <th>Reflux_esophagitis</th>\n",
       "      <th>Asthma</th>\n",
       "      <th>Services</th>\n",
       "      <th>Initial_days</th>\n",
       "      <th>TotalCharge</th>\n",
       "      <th>Additional_charges</th>\n",
       "      <th>ReAdmis</th>\n",
       "    </tr>\n",
       "  </thead>\n",
       "  <tbody>\n",
       "    <tr>\n",
       "      <th>0</th>\n",
       "      <td>53</td>\n",
       "      <td>86575.93</td>\n",
       "      <td>0</td>\n",
       "      <td>0</td>\n",
       "      <td>1</td>\n",
       "      <td>0</td>\n",
       "      <td>1</td>\n",
       "      <td>0</td>\n",
       "      <td>1</td>\n",
       "      <td>1</td>\n",
       "      <td>...</td>\n",
       "      <td>1</td>\n",
       "      <td>1</td>\n",
       "      <td>1</td>\n",
       "      <td>0</td>\n",
       "      <td>1</td>\n",
       "      <td>0</td>\n",
       "      <td>10.585770</td>\n",
       "      <td>3726.702860</td>\n",
       "      <td>17939.403420</td>\n",
       "      <td>0</td>\n",
       "    </tr>\n",
       "    <tr>\n",
       "      <th>1</th>\n",
       "      <td>51</td>\n",
       "      <td>46805.99</td>\n",
       "      <td>0</td>\n",
       "      <td>0</td>\n",
       "      <td>1</td>\n",
       "      <td>0</td>\n",
       "      <td>0</td>\n",
       "      <td>1</td>\n",
       "      <td>0</td>\n",
       "      <td>0</td>\n",
       "      <td>...</td>\n",
       "      <td>0</td>\n",
       "      <td>0</td>\n",
       "      <td>0</td>\n",
       "      <td>1</td>\n",
       "      <td>0</td>\n",
       "      <td>1</td>\n",
       "      <td>15.129562</td>\n",
       "      <td>4193.190458</td>\n",
       "      <td>17612.998120</td>\n",
       "      <td>0</td>\n",
       "    </tr>\n",
       "    <tr>\n",
       "      <th>2</th>\n",
       "      <td>53</td>\n",
       "      <td>14370.14</td>\n",
       "      <td>0</td>\n",
       "      <td>1</td>\n",
       "      <td>1</td>\n",
       "      <td>0</td>\n",
       "      <td>1</td>\n",
       "      <td>1</td>\n",
       "      <td>0</td>\n",
       "      <td>1</td>\n",
       "      <td>...</td>\n",
       "      <td>0</td>\n",
       "      <td>0</td>\n",
       "      <td>0</td>\n",
       "      <td>0</td>\n",
       "      <td>0</td>\n",
       "      <td>0</td>\n",
       "      <td>4.772177</td>\n",
       "      <td>2434.234222</td>\n",
       "      <td>17505.192460</td>\n",
       "      <td>0</td>\n",
       "    </tr>\n",
       "    <tr>\n",
       "      <th>3</th>\n",
       "      <td>78</td>\n",
       "      <td>39741.49</td>\n",
       "      <td>0</td>\n",
       "      <td>1</td>\n",
       "      <td>0</td>\n",
       "      <td>1</td>\n",
       "      <td>1</td>\n",
       "      <td>0</td>\n",
       "      <td>1</td>\n",
       "      <td>0</td>\n",
       "      <td>...</td>\n",
       "      <td>0</td>\n",
       "      <td>0</td>\n",
       "      <td>0</td>\n",
       "      <td>1</td>\n",
       "      <td>1</td>\n",
       "      <td>0</td>\n",
       "      <td>1.714879</td>\n",
       "      <td>2127.830423</td>\n",
       "      <td>12993.437350</td>\n",
       "      <td>0</td>\n",
       "    </tr>\n",
       "    <tr>\n",
       "      <th>4</th>\n",
       "      <td>22</td>\n",
       "      <td>1209.56</td>\n",
       "      <td>1</td>\n",
       "      <td>1</td>\n",
       "      <td>0</td>\n",
       "      <td>0</td>\n",
       "      <td>2</td>\n",
       "      <td>0</td>\n",
       "      <td>0</td>\n",
       "      <td>0</td>\n",
       "      <td>...</td>\n",
       "      <td>0</td>\n",
       "      <td>0</td>\n",
       "      <td>1</td>\n",
       "      <td>0</td>\n",
       "      <td>0</td>\n",
       "      <td>2</td>\n",
       "      <td>1.254807</td>\n",
       "      <td>2113.073274</td>\n",
       "      <td>3716.525786</td>\n",
       "      <td>0</td>\n",
       "    </tr>\n",
       "  </tbody>\n",
       "</table>\n",
       "<p>5 rows × 21 columns</p>\n",
       "</div>"
      ],
      "text/plain": [
       "   Age    Income  Soft_drink  Initial_admin  HighBlood  Stroke  \\\n",
       "0   53  86575.93           0              0          1       0   \n",
       "1   51  46805.99           0              0          1       0   \n",
       "2   53  14370.14           0              1          1       0   \n",
       "3   78  39741.49           0              1          0       1   \n",
       "4   22   1209.56           1              1          0       0   \n",
       "\n",
       "   Complication_risk  Overweight  Arthritis  Diabetes  ...  BackPain  Anxiety  \\\n",
       "0                  1           0          1         1  ...         1        1   \n",
       "1                  0           1          0         0  ...         0        0   \n",
       "2                  1           1          0         1  ...         0        0   \n",
       "3                  1           0          1         0  ...         0        0   \n",
       "4                  2           0          0         0  ...         0        0   \n",
       "\n",
       "   Allergic_rhinitis  Reflux_esophagitis  Asthma  Services  Initial_days  \\\n",
       "0                  1                   0       1         0     10.585770   \n",
       "1                  0                   1       0         1     15.129562   \n",
       "2                  0                   0       0         0      4.772177   \n",
       "3                  0                   1       1         0      1.714879   \n",
       "4                  1                   0       0         2      1.254807   \n",
       "\n",
       "   TotalCharge  Additional_charges  ReAdmis  \n",
       "0  3726.702860        17939.403420        0  \n",
       "1  4193.190458        17612.998120        0  \n",
       "2  2434.234222        17505.192460        0  \n",
       "3  2127.830423        12993.437350        0  \n",
       "4  2113.073274         3716.525786        0  \n",
       "\n",
       "[5 rows x 21 columns]"
      ]
     },
     "execution_count": 24,
     "metadata": {},
     "output_type": "execute_result"
    }
   ],
   "source": [
    "medical_df.head()"
   ]
  },
  {
   "cell_type": "code",
   "execution_count": 25,
   "id": "816cd872",
   "metadata": {},
   "outputs": [
    {
     "name": "stdout",
     "output_type": "stream",
     "text": [
      "Index(['Age', 'Income', 'Soft_drink', 'Initial_admin', 'HighBlood', 'Stroke',\n",
      "       'Complication_risk', 'Overweight', 'Arthritis', 'Diabetes',\n",
      "       'Hyperlipidemia', 'BackPain', 'Anxiety', 'Allergic_rhinitis',\n",
      "       'Reflux_esophagitis', 'Asthma', 'Services', 'Initial_days',\n",
      "       'TotalCharge', 'Additional_charges', 'ReAdmis'],\n",
      "      dtype='object')\n"
     ]
    }
   ],
   "source": [
    "medical_df_columns = medical_df.columns\n",
    "print(medical_df_columns)"
   ]
  },
  {
   "cell_type": "markdown",
   "id": "134c496e",
   "metadata": {},
   "source": [
    "**C4. Prepared data set copy:**"
   ]
  },
  {
   "cell_type": "code",
   "execution_count": 26,
   "id": "d77fd1f3",
   "metadata": {},
   "outputs": [
    {
     "name": "stdout",
     "output_type": "stream",
     "text": [
      "----------------------------------------Age---------------------------------------- - "
     ]
    },
    {
     "data": {
      "text/plain": [
       "47    161\n",
       "74    159\n",
       "52    159\n",
       "41    157\n",
       "86    156\n",
       "     ... \n",
       "63    123\n",
       "51    122\n",
       "20    120\n",
       "36    118\n",
       "80    116\n",
       "Name: Age, Length: 72, dtype: int64"
      ]
     },
     "metadata": {},
     "output_type": "display_data"
    },
    {
     "name": "stdout",
     "output_type": "stream",
     "text": [
      "----------------------------------------Income---------------------------------------- - "
     ]
    },
    {
     "data": {
      "text/plain": [
       "26915.85    2\n",
       "24997.02    2\n",
       "55506.92    2\n",
       "37132.97    2\n",
       "14572.40    2\n",
       "           ..\n",
       "81337.04    1\n",
       "17755.30    1\n",
       "18980.55    1\n",
       "21847.03    1\n",
       "21007.85    1\n",
       "Name: Income, Length: 9993, dtype: int64"
      ]
     },
     "metadata": {},
     "output_type": "display_data"
    },
    {
     "name": "stdout",
     "output_type": "stream",
     "text": [
      "----------------------------------------Soft_drink---------------------------------------- - "
     ]
    },
    {
     "data": {
      "text/plain": [
       "0    7425\n",
       "1    2575\n",
       "Name: Soft_drink, dtype: int64"
      ]
     },
     "metadata": {},
     "output_type": "display_data"
    },
    {
     "name": "stdout",
     "output_type": "stream",
     "text": [
      "----------------------------------------Initial_admin---------------------------------------- - "
     ]
    },
    {
     "data": {
      "text/plain": [
       "0    5060\n",
       "1    2504\n",
       "2    2436\n",
       "Name: Initial_admin, dtype: int64"
      ]
     },
     "metadata": {},
     "output_type": "display_data"
    },
    {
     "name": "stdout",
     "output_type": "stream",
     "text": [
      "----------------------------------------HighBlood---------------------------------------- - "
     ]
    },
    {
     "data": {
      "text/plain": [
       "0    5910\n",
       "1    4090\n",
       "Name: HighBlood, dtype: int64"
      ]
     },
     "metadata": {},
     "output_type": "display_data"
    },
    {
     "name": "stdout",
     "output_type": "stream",
     "text": [
      "----------------------------------------Stroke---------------------------------------- - "
     ]
    },
    {
     "data": {
      "text/plain": [
       "0    8007\n",
       "1    1993\n",
       "Name: Stroke, dtype: int64"
      ]
     },
     "metadata": {},
     "output_type": "display_data"
    },
    {
     "name": "stdout",
     "output_type": "stream",
     "text": [
      "----------------------------------------Complication_risk---------------------------------------- - "
     ]
    },
    {
     "data": {
      "text/plain": [
       "1    4517\n",
       "0    3358\n",
       "2    2125\n",
       "Name: Complication_risk, dtype: int64"
      ]
     },
     "metadata": {},
     "output_type": "display_data"
    },
    {
     "name": "stdout",
     "output_type": "stream",
     "text": [
      "----------------------------------------Overweight---------------------------------------- - "
     ]
    },
    {
     "data": {
      "text/plain": [
       "1    7094\n",
       "0    2906\n",
       "Name: Overweight, dtype: int64"
      ]
     },
     "metadata": {},
     "output_type": "display_data"
    },
    {
     "name": "stdout",
     "output_type": "stream",
     "text": [
      "----------------------------------------Arthritis---------------------------------------- - "
     ]
    },
    {
     "data": {
      "text/plain": [
       "0    6426\n",
       "1    3574\n",
       "Name: Arthritis, dtype: int64"
      ]
     },
     "metadata": {},
     "output_type": "display_data"
    },
    {
     "name": "stdout",
     "output_type": "stream",
     "text": [
      "----------------------------------------Diabetes---------------------------------------- - "
     ]
    },
    {
     "data": {
      "text/plain": [
       "0    7262\n",
       "1    2738\n",
       "Name: Diabetes, dtype: int64"
      ]
     },
     "metadata": {},
     "output_type": "display_data"
    },
    {
     "name": "stdout",
     "output_type": "stream",
     "text": [
      "----------------------------------------Hyperlipidemia---------------------------------------- - "
     ]
    },
    {
     "data": {
      "text/plain": [
       "0    6628\n",
       "1    3372\n",
       "Name: Hyperlipidemia, dtype: int64"
      ]
     },
     "metadata": {},
     "output_type": "display_data"
    },
    {
     "name": "stdout",
     "output_type": "stream",
     "text": [
      "----------------------------------------BackPain---------------------------------------- - "
     ]
    },
    {
     "data": {
      "text/plain": [
       "0    5886\n",
       "1    4114\n",
       "Name: BackPain, dtype: int64"
      ]
     },
     "metadata": {},
     "output_type": "display_data"
    },
    {
     "name": "stdout",
     "output_type": "stream",
     "text": [
      "----------------------------------------Anxiety---------------------------------------- - "
     ]
    },
    {
     "data": {
      "text/plain": [
       "0    6785\n",
       "1    3215\n",
       "Name: Anxiety, dtype: int64"
      ]
     },
     "metadata": {},
     "output_type": "display_data"
    },
    {
     "name": "stdout",
     "output_type": "stream",
     "text": [
      "----------------------------------------Allergic_rhinitis---------------------------------------- - "
     ]
    },
    {
     "data": {
      "text/plain": [
       "0    6059\n",
       "1    3941\n",
       "Name: Allergic_rhinitis, dtype: int64"
      ]
     },
     "metadata": {},
     "output_type": "display_data"
    },
    {
     "name": "stdout",
     "output_type": "stream",
     "text": [
      "----------------------------------------Reflux_esophagitis---------------------------------------- - "
     ]
    },
    {
     "data": {
      "text/plain": [
       "0    5865\n",
       "1    4135\n",
       "Name: Reflux_esophagitis, dtype: int64"
      ]
     },
     "metadata": {},
     "output_type": "display_data"
    },
    {
     "name": "stdout",
     "output_type": "stream",
     "text": [
      "----------------------------------------Asthma---------------------------------------- - "
     ]
    },
    {
     "data": {
      "text/plain": [
       "0    7107\n",
       "1    2893\n",
       "Name: Asthma, dtype: int64"
      ]
     },
     "metadata": {},
     "output_type": "display_data"
    },
    {
     "name": "stdout",
     "output_type": "stream",
     "text": [
      "----------------------------------------Services---------------------------------------- - "
     ]
    },
    {
     "data": {
      "text/plain": [
       "0    5265\n",
       "1    3130\n",
       "2    1225\n",
       "3     380\n",
       "Name: Services, dtype: int64"
      ]
     },
     "metadata": {},
     "output_type": "display_data"
    },
    {
     "name": "stdout",
     "output_type": "stream",
     "text": [
      "----------------------------------------Initial_days---------------------------------------- - "
     ]
    },
    {
     "data": {
      "text/plain": [
       "63.544320    2\n",
       "67.421390    2\n",
       "70.325420    2\n",
       "4.912367     1\n",
       "53.405170    1\n",
       "            ..\n",
       "10.138463    1\n",
       "58.034160    1\n",
       "70.505400    1\n",
       "1.923162     1\n",
       "5.703981     1\n",
       "Name: Initial_days, Length: 9997, dtype: int64"
      ]
     },
     "metadata": {},
     "output_type": "display_data"
    },
    {
     "name": "stdout",
     "output_type": "stream",
     "text": [
      "----------------------------------------TotalCharge---------------------------------------- - "
     ]
    },
    {
     "data": {
      "text/plain": [
       "7555.452000    2\n",
       "8081.346000    2\n",
       "7964.681000    2\n",
       "8109.808000    1\n",
       "3316.603639    1\n",
       "              ..\n",
       "2631.579978    1\n",
       "6466.237000    1\n",
       "2760.709578    1\n",
       "7860.680000    1\n",
       "3370.734711    1\n",
       "Name: TotalCharge, Length: 9997, dtype: int64"
      ]
     },
     "metadata": {},
     "output_type": "display_data"
    },
    {
     "name": "stdout",
     "output_type": "stream",
     "text": [
      "----------------------------------------Additional_charges---------------------------------------- - "
     ]
    },
    {
     "data": {
      "text/plain": [
       "8044.550000     3\n",
       "6858.934776     3\n",
       "14641.571040    3\n",
       "5000.124000     3\n",
       "4750.641900     3\n",
       "               ..\n",
       "4060.807076     1\n",
       "9965.695000     1\n",
       "6572.590210     1\n",
       "11775.511170    1\n",
       "12804.678120    1\n",
       "Name: Additional_charges, Length: 9418, dtype: int64"
      ]
     },
     "metadata": {},
     "output_type": "display_data"
    },
    {
     "name": "stdout",
     "output_type": "stream",
     "text": [
      "----------------------------------------ReAdmis---------------------------------------- - "
     ]
    },
    {
     "data": {
      "text/plain": [
       "0    6331\n",
       "1    3669\n",
       "Name: ReAdmis, dtype: int64"
      ]
     },
     "metadata": {},
     "output_type": "display_data"
    }
   ],
   "source": [
    "# Prepared data set copy: medical_prepared.csv\n",
    "for col in medical_df.columns:\n",
    "    print('-' * 40 + col + '-' * 40 , end=' - ')\n",
    "    display(medical_df[col].value_counts())\n",
    "\n",
    "medical_df.to_csv(\"medical_prepared.csv\", index=False)"
   ]
  },
  {
   "cell_type": "markdown",
   "id": "7cbfc4e3",
   "metadata": {},
   "source": [
    "# Part 4: Analysis"
   ]
  },
  {
   "cell_type": "code",
   "execution_count": 27,
   "id": "ad1f55d7",
   "metadata": {},
   "outputs": [
    {
     "name": "stdout",
     "output_type": "stream",
     "text": [
      "Index(['Age', 'Income', 'Soft_drink', 'Initial_admin', 'HighBlood', 'Stroke',\n",
      "       'Complication_risk', 'Overweight', 'Arthritis', 'Diabetes',\n",
      "       'Hyperlipidemia', 'BackPain', 'Anxiety', 'Allergic_rhinitis',\n",
      "       'Reflux_esophagitis', 'Asthma', 'Services', 'Initial_days',\n",
      "       'TotalCharge', 'Additional_charges', 'ReAdmis'],\n",
      "      dtype='object')\n"
     ]
    }
   ],
   "source": [
    "# Load medical preapred csv into data frame\n",
    "medical_df = pd.read_csv('medical_prepared.csv')\n",
    "medical_df_columns = medical_df.columns\n",
    "print(medical_df_columns)"
   ]
  },
  {
   "cell_type": "markdown",
   "id": "7dd47186",
   "metadata": {},
   "source": [
    "**D1. Split the data into training and test data sets**"
   ]
  },
  {
   "cell_type": "code",
   "execution_count": 28,
   "id": "f96e79a4",
   "metadata": {},
   "outputs": [],
   "source": [
    "# Set predictor features & target variable\n",
    "\n",
    "target = medical_df['ReAdmis']\n",
    "X = medical_df.drop('ReAdmis', axis =1)\n",
    "y = target\n"
   ]
  },
  {
   "cell_type": "code",
   "execution_count": 29,
   "id": "16f3c567",
   "metadata": {},
   "outputs": [
    {
     "name": "stdout",
     "output_type": "stream",
     "text": [
      "      Age    Income  Soft_drink  Initial_admin  HighBlood  Stroke  \\\n",
      "0      53  86575.93           0              0          1       0   \n",
      "1      51  46805.99           0              0          1       0   \n",
      "2      53  14370.14           0              1          1       0   \n",
      "3      78  39741.49           0              1          0       1   \n",
      "4      22   1209.56           1              1          0       0   \n",
      "...   ...       ...         ...            ...        ...     ...   \n",
      "9995   25  45967.61           0              0          1       0   \n",
      "9996   87  14983.02           0              1          1       0   \n",
      "9997   45  65917.81           1              1          1       0   \n",
      "9998   43  29702.32           0              0          0       0   \n",
      "9999   70  62682.63           0              2          0       0   \n",
      "\n",
      "      Complication_risk  Overweight  Arthritis  Diabetes  Hyperlipidemia  \\\n",
      "0                     1           0          1         1               0   \n",
      "1                     0           1          0         0               0   \n",
      "2                     1           1          0         1               0   \n",
      "3                     1           0          1         0               0   \n",
      "4                     2           0          0         0               1   \n",
      "...                 ...         ...        ...       ...             ...   \n",
      "9995                  1           0          0         0               0   \n",
      "9996                  1           1          1         1               0   \n",
      "9997                  0           1          0         0               0   \n",
      "9998                  1           1          0         0               0   \n",
      "9999                  2           1          1         0               1   \n",
      "\n",
      "      BackPain  Anxiety  Allergic_rhinitis  Reflux_esophagitis  Asthma  \\\n",
      "0            1        1                  1                   0       1   \n",
      "1            0        0                  0                   1       0   \n",
      "2            0        0                  0                   0       0   \n",
      "3            0        0                  0                   1       1   \n",
      "4            0        0                  1                   0       0   \n",
      "...        ...      ...                ...                 ...     ...   \n",
      "9995         0        1                  0                   1       0   \n",
      "9996         0        0                  0                   0       1   \n",
      "9997         0        1                  1                   0       0   \n",
      "9998         1        0                  0                   0       0   \n",
      "9999         0        0                  1                   0       0   \n",
      "\n",
      "      Services  Initial_days  TotalCharge  Additional_charges  \n",
      "0            0     10.585770  3726.702860        17939.403420  \n",
      "1            1     15.129562  4193.190458        17612.998120  \n",
      "2            0      4.772177  2434.234222        17505.192460  \n",
      "3            0      1.714879  2127.830423        12993.437350  \n",
      "4            2      1.254807  2113.073274         3716.525786  \n",
      "...        ...           ...          ...                 ...  \n",
      "9995         1     51.561220  6850.942000         8927.642000  \n",
      "9996         2     68.668240  7741.690000        28507.150000  \n",
      "9997         1     70.154180  8276.481000        15281.210000  \n",
      "9998         0     63.356900  7644.483000         7781.678000  \n",
      "9999         0     70.850590  7887.553000        11643.190000  \n",
      "\n",
      "[10000 rows x 20 columns]\n"
     ]
    }
   ],
   "source": [
    "print(X)"
   ]
  },
  {
   "cell_type": "code",
   "execution_count": 30,
   "id": "a326522c",
   "metadata": {},
   "outputs": [
    {
     "name": "stdout",
     "output_type": "stream",
     "text": [
      "0       0\n",
      "1       0\n",
      "2       0\n",
      "3       0\n",
      "4       0\n",
      "       ..\n",
      "9995    0\n",
      "9996    1\n",
      "9997    1\n",
      "9998    1\n",
      "9999    1\n",
      "Name: ReAdmis, Length: 10000, dtype: int64\n"
     ]
    }
   ],
   "source": [
    "print(y)"
   ]
  },
  {
   "cell_type": "code",
   "execution_count": 31,
   "id": "79f8496e",
   "metadata": {},
   "outputs": [],
   "source": [
    "# Import train_test_split function\n",
    "from sklearn.model_selection import train_test_split\n",
    "\n",
    "# Split dataset into training set and test set\n",
    "X_train, X_test, y_train, y_test = train_test_split(X, y, test_size = 0.20, random_state = 0) \n"
   ]
  },
  {
   "cell_type": "code",
   "execution_count": 32,
   "id": "5e81c897",
   "metadata": {},
   "outputs": [
    {
     "name": "stdout",
     "output_type": "stream",
     "text": [
      "original dataset : (10000, 21)\n",
      "training set input (8000, 20)\n",
      "training set output (8000,)\n",
      "testing set input (2000, 20)\n",
      "testing set output (2000,)\n"
     ]
    }
   ],
   "source": [
    "#Shapes of testing and training sets :\n",
    "print(\"original dataset :\", medical_df.shape)\n",
    "print(\"training set input\", X_train.shape)\n",
    "print(\"training set output\", y_train.shape)\n",
    "print(\"testing set input\", X_test.shape)\n",
    "print(\"testing set output\", y_test.shape)"
   ]
  },
  {
   "cell_type": "markdown",
   "id": "9dad39ca",
   "metadata": {},
   "source": [
    "**D2 and D3. Provide the technique, the code used and output**"
   ]
  },
  {
   "cell_type": "code",
   "execution_count": 33,
   "id": "8f145bf4",
   "metadata": {},
   "outputs": [],
   "source": [
    "# Start with the KNN classifier model for for k=6\n",
    "#Import knearest neighbors Classifier model\n",
    "from sklearn.neighbors import KNeighborsClassifier\n",
    "\n",
    "#Create KNN Classifier\n",
    "knn = KNeighborsClassifier(n_neighbors = 6)\n",
    "\n",
    "#The training sets\n",
    "knn.fit(X_train, y_train)\n",
    "\n",
    "#Test dataset - predict\n",
    "y_pred = knn.predict(X_test)"
   ]
  },
  {
   "cell_type": "code",
   "execution_count": 34,
   "id": "06a14cbc",
   "metadata": {},
   "outputs": [
    {
     "name": "stdout",
     "output_type": "stream",
     "text": [
      "              precision    recall  f1-score   support\n",
      "\n",
      "           0       0.95      0.93      0.94      1262\n",
      "           1       0.89      0.91      0.90       738\n",
      "\n",
      "    accuracy                           0.92      2000\n",
      "   macro avg       0.92      0.92      0.92      2000\n",
      "weighted avg       0.93      0.92      0.92      2000\n",
      "\n"
     ]
    }
   ],
   "source": [
    "#Summary statistic\n",
    "\n",
    "from sklearn.metrics import classification_report\n",
    "print(classification_report(y_test, y_pred))\n"
   ]
  },
  {
   "cell_type": "code",
   "execution_count": 35,
   "id": "a5b99d91",
   "metadata": {},
   "outputs": [
    {
     "name": "stdout",
     "output_type": "stream",
     "text": [
      "Medical_Accuracy: 0.9245\n",
      "Medical_Precision: 0.885676741130092\n",
      "Medical_Recall: 0.9132791327913279\n"
     ]
    }
   ],
   "source": [
    "# Evaluate the model using model evaluation metrics such as accuracy, precision, and recall.\n",
    "\n",
    "print(\"Medical_Accuracy:\",metrics.accuracy_score(y_test, y_pred))\n",
    "print(\"Medical_Precision:\",metrics.precision_score(y_test, y_pred))\n",
    "print(\"Medical_Recall:\",metrics.recall_score(y_test, y_pred))"
   ]
  },
  {
   "cell_type": "markdown",
   "id": "66f5ab48",
   "metadata": {},
   "source": [
    "With k = 6, \n",
    "The classification rate of 92% is considered as good accuracy. Precision is about being precise and how accurate your model is. For example, the KNN model predicted that patients are at high risk of readmission 88% of the time. However, if there are patients at high risk of readmission in the test set and the KNN can identify it 91% of the recall time.\n",
    "\n",
    "**Now, let find the optimal value of k in KNN.**"
   ]
  },
  {
   "cell_type": "code",
   "execution_count": 36,
   "id": "38d18d01",
   "metadata": {},
   "outputs": [
    {
     "name": "stdout",
     "output_type": "stream",
     "text": [
      "Minimum error:- 0.0715 at K = 2\n"
     ]
    },
    {
     "data": {
      "image/png": "[encoded data removed]",
      "text/plain": [
       "<Figure size 720x432 with 1 Axes>"
      ]
     },
     "metadata": {
      "needs_background": "light"
     },
     "output_type": "display_data"
    }
   ],
   "source": [
    "# Find the optimal value of k in KNN:\n",
    "\n",
    "error_rate = []\n",
    "for i in range(1,30):\n",
    " knn = KNeighborsClassifier(n_neighbors=i)\n",
    " knn.fit(X_train,y_train)\n",
    " y_pred = knn.predict(X_test)\n",
    " error_rate.append(np.mean(y_pred!= y_test))\n",
    "\n",
    "plt.figure(figsize=(10,6))\n",
    "plt.plot(range(1,30),error_rate, \n",
    "         marker='o', markersize=10)\n",
    "plt.title('Error Rate vs. K Value')\n",
    "plt.xlabel('K Value')\n",
    "plt.ylabel('Error Rate')\n",
    "print(\"Minimum error:-\",min(error_rate),\"at K =\",error_rate.index(min(error_rate)))"
   ]
  },
  {
   "cell_type": "markdown",
   "id": "f396de48",
   "metadata": {},
   "source": [
    "From the plot, you can see that the smallest error we got is 0.0715 at K = 2"
   ]
  },
  {
   "cell_type": "markdown",
   "id": "820bdb5d",
   "metadata": {},
   "source": [
    "**Create new KNN Classifier**"
   ]
  },
  {
   "cell_type": "code",
   "execution_count": 37,
   "id": "d64b04a4",
   "metadata": {},
   "outputs": [],
   "source": [
    "# Split dataset into training set and test set\n",
    "X_train_new, X_test_new, y_train_new, y_test_new = train_test_split(X, y, test_size = 0.20, random_state = 0) \n",
    "\n",
    "\n"
   ]
  },
  {
   "cell_type": "code",
   "execution_count": 38,
   "id": "8aba315d",
   "metadata": {},
   "outputs": [
    {
     "name": "stdout",
     "output_type": "stream",
     "text": [
      "shape of original dataset : (10000, 21)\n",
      "shape of input - training set (8000, 20)\n",
      "shape of output - training set (8000,)\n",
      "shape of input - testing set (2000, 20)\n",
      "shape of output - testing set (2000,)\n"
     ]
    }
   ],
   "source": [
    "#Shapes of testing and training sets :\n",
    "print(\"shape of original dataset :\", medical_df.shape)\n",
    "print(\"shape of input - training set\", X_train_new.shape)\n",
    "print(\"shape of output - training set\", y_train_new.shape)\n",
    "print(\"shape of input - testing set\", X_test_new.shape)\n",
    "print(\"shape of output - testing set\", y_test_new.shape)"
   ]
  },
  {
   "cell_type": "code",
   "execution_count": 39,
   "id": "17771bbd",
   "metadata": {},
   "outputs": [
    {
     "name": "stdout",
     "output_type": "stream",
     "text": [
      "              precision    recall  f1-score   support\n",
      "\n",
      "           0       0.90      0.96      0.93      1262\n",
      "           1       0.92      0.82      0.87       738\n",
      "\n",
      "    accuracy                           0.91      2000\n",
      "   macro avg       0.91      0.89      0.90      2000\n",
      "weighted avg       0.91      0.91      0.91      2000\n",
      "\n"
     ]
    }
   ],
   "source": [
    "# Re-run with the KNN classifier model for for k=2\n",
    "#Import knearest neighbors Classifier model\n",
    "from sklearn.neighbors import KNeighborsClassifier\n",
    "\n",
    "#Create KNN Classifier\n",
    "knn_new = KNeighborsClassifier(n_neighbors = 2)\n",
    "\n",
    "#The training sets\n",
    "knn_new.fit(X_train_new, y_train_new)\n",
    "\n",
    "#Test dataset - predict\n",
    "y_pred_new = knn_new.predict(X_test_new)\n",
    "\n",
    "#Summary statistic\n",
    "\n",
    "from sklearn.metrics import classification_report\n",
    "print(classification_report(y_test_new, y_pred_new))"
   ]
  },
  {
   "cell_type": "code",
   "execution_count": 40,
   "id": "6c7bff5e",
   "metadata": {},
   "outputs": [
    {
     "data": {
      "text/plain": [
       "array([[1212,   50],\n",
       "       [ 136,  602]], dtype=int64)"
      ]
     },
     "execution_count": 40,
     "metadata": {},
     "output_type": "execute_result"
    }
   ],
   "source": [
    "# Model Evaluation using Confusion Matrix. Checking the accuracy\n",
    "\n",
    "from sklearn.metrics import confusion_matrix\n",
    "cnf_matrix = confusion_matrix(y_test_new, y_pred_new)\n",
    "cnf_matrix"
   ]
  },
  {
   "cell_type": "code",
   "execution_count": 41,
   "id": "5ac38213",
   "metadata": {},
   "outputs": [
    {
     "data": {
      "text/plain": [
       "<AxesSubplot:>"
      ]
     },
     "execution_count": 41,
     "metadata": {},
     "output_type": "execute_result"
    },
    {
     "data": {
      "image/png": "[encoded data removed]",
      "text/plain": [
       "<Figure size 432x288 with 2 Axes>"
      ]
     },
     "metadata": {
      "needs_background": "light"
     },
     "output_type": "display_data"
    }
   ],
   "source": [
    "# Create the matric heatmap\n",
    "\n",
    "y_predict_test = knn_new.predict(X_test_new)\n",
    "new_matrix = confusion_matrix(y_test_new, y_predict_test)\n",
    "sns.heatmap(cnf_matrix, annot = True)"
   ]
  },
  {
   "cell_type": "code",
   "execution_count": 42,
   "id": "99bfb352",
   "metadata": {},
   "outputs": [
    {
     "name": "stdout",
     "output_type": "stream",
     "text": [
      "new_Medical_Accuracy: 0.907\n",
      "new_Medical_Precision: 0.9233128834355828\n",
      "new_Medical_Recall: 0.8157181571815718\n"
     ]
    }
   ],
   "source": [
    "# Re-Evaluate the model using model evaluation metrics such as accuracy, precision, and recall.\n",
    "\n",
    "print(\"new_Medical_Accuracy:\",metrics.accuracy_score(y_test_new, y_pred_new))\n",
    "print(\"new_Medical_Precision:\",metrics.precision_score(y_test_new, y_pred_new))\n",
    "print(\"new_Medical_Recall:\",metrics.recall_score(y_test_new, y_pred_new))"
   ]
  },
  {
   "cell_type": "code",
   "execution_count": 43,
   "id": "944553af",
   "metadata": {},
   "outputs": [
    {
     "data": {
      "image/png": "[encoded data removed]",
      "text/plain": [
       "<Figure size 432x288 with 1 Axes>"
      ]
     },
     "metadata": {
      "needs_background": "light"
     },
     "output_type": "display_data"
    }
   ],
   "source": [
    "# The ROC curve for AUC\n",
    "y_pred_proba = knn_new.predict_proba(X_test_new)[::,1]\n",
    "fpr, tpr, _ = metrics.roc_curve(y_test_new,  y_pred_proba)\n",
    "auc = metrics.roc_auc_score(y_test_new, y_pred_proba)\n",
    "plt.plot(fpr,tpr,label=\"data 1, auc=\"+str(auc))\n",
    "plt.legend(loc=4)\n",
    "plt.show()"
   ]
  },
  {
   "cell_type": "markdown",
   "id": "818bb6d7",
   "metadata": {},
   "source": [
    "The ROC curve plots the true positive (TP) rate against the false positive (FP) rate. It shows the tradeoff between sensitivity and specificity. In this ROC curve, the AUC score is 0.95; the AUC score of 1 represents a perfect classifier, and 0.5 represents a weak classifier."
   ]
  },
  {
   "cell_type": "markdown",
   "id": "3d61cd4b",
   "metadata": {},
   "source": [
    "**E1. Accuracy Score & AUC**\n",
    "\n",
    "Please see above."
   ]
  },
  {
   "cell_type": "markdown",
   "id": "89f860e9",
   "metadata": {},
   "source": [
    "**E2. Results:**"
   ]
  },
  {
   "cell_type": "markdown",
   "id": "31aee216",
   "metadata": {},
   "source": [
    "Now let look at the metric model. The dimension of this cnf_matrix is 2 by 2 because this model is binary classification. We have two classes 0 and 1 (ReAdmis, value yes/no). Diagonal values represent accurate predictions, while non-diagonal elements are inaccurate predictions. For example, 26 and 11 are actual predictions in the output, and 0 and 3 are incorrect predictions.\n",
    "\n",
    "At the k = 2, we have a minimum error rate of 0.0715 and obtained\n",
    "- new_Medical_Accuracy: 0.907\n",
    "- new_Medical_Precision: 0.9233128834355828\n",
    "- new_Medical_Recall: 0.8157181571815718\n",
    "\n",
    "The classification rate of 91% is considered as good accuracy. Precision is about being precise and how accurate the model is. For example, the classification model predicted that patients are at high risk of readmission, 92% of the time. However, if there are patients at high risk of readmission in the test set, the KNN model can identify it 82% of the recall time.\n",
    "\n",
    "The array from con_matrix follows true negatives, false positives, false negatives, and true positives.\n",
    "The ROC curve plots the true positive (TP) rate against the false positive (FP) rate. In this ROC curve, the AUC score is 0.99, which means close to the AUC score of 1 represents a perfect classifier.\n"
   ]
  },
  {
   "cell_type": "markdown",
   "id": "91ff04af",
   "metadata": {},
   "source": [
    "**E3. The limitation:**\n",
    "\n",
    "The limitation of the k-nearest neighbor's algorithm is slower and expensive in terms of time and memory. The k-nearest neighbor is an algorithm based on the distance between a new point and each other's existing point. This can take time and high cost so that it will not work well with a large dataset and a high number of dimensions. The k-nearest neighbor is delicate to missing values and outliers, so we first need to get rid of the outliers and impute the missing values before applying the KNN algorithm. The limitations of the data analysis are that we do not know the time frame of this dataset. I also think we do not have enough data and need to collect more data for predicting which patients are at high risk of readmission."
   ]
  },
  {
   "cell_type": "markdown",
   "id": "fda426b8",
   "metadata": {},
   "source": [
    "**E4.  Action:**"
   ]
  },
  {
   "cell_type": "markdown",
   "id": "fe7cbdd0",
   "metadata": {},
   "source": [
    "Based on the results, I would advise the business to analyze the features in common among those leaving the company & attempt to reduce their likelihood of occurring with any given patients in the future.  In addition, the hospital should improve more than one service that decreases/increases the patients at high risk of readmission such as Initial_days, Additional_charges, Hyperlipidemia, Services..., not just simple ones. \n",
    "I also think we do not have enough data and need to collect more data for predicting which patients are at high risk of readmission; and will need complete features for each example to compute the space by filling the missing values with the average value of the variable across the whole dataset."
   ]
  },
  {
   "cell_type": "markdown",
   "id": "fa6addcb",
   "metadata": {},
   "source": [
    "# Part 4: Demonstration"
   ]
  },
  {
   "cell_type": "markdown",
   "id": "1a3fc5a7",
   "metadata": {},
   "source": [
    "**F. Panopto recording**\n",
    "\n",
    "Panopto video recording of warning and error free code execution to perform data acquisition tasks is uploaded to\n"
   ]
  },
  {
   "cell_type": "markdown",
   "id": "1a706fcb",
   "metadata": {},
   "source": [
    "**G. Sources for third-party code**\n",
    "\n",
    "[1] Avinash Navlani. (2018, August 02). Datacamp. KNN Classification using Scikit-learn. https://www.datacamp.com/community/tutorials/k-nearest-neighbor-classification-scikit-learn\n",
    "\n",
    "\n",
    "[2] Amey Band. (2020, May 23) How to find the optimal value of K in KNN?. Visualize error rate vs. K plot to find the most suitable K value. https://towardsdatascience.com/how-to-find-the-optimal-value-of-k-in-knn-35d936e554eb\n",
    "\n",
    "[3] Zach. (2020, July 21). How to Create a Residual Plot in Python. https://www.statology.org/residual-plot-python/\n"
   ]
  },
  {
   "cell_type": "markdown",
   "id": "ed6b7f91",
   "metadata": {},
   "source": [
    "**H. Acknowledge source**\n",
    "\n",
    "[4] Tavish Srivastava. (2018, March 26). Introduction to k-Nearest Neighbors: A powerful Machine Learning Algorithm (with implementation in Python & R). https://www.analyticsvidhya.com/blog/2018/03/introduction-k-neighbours-algorithm-clustering/\n",
    "\n",
    "\n",
    "[5] Deepak Jain. (2020, July 17). KNN: Failure cases, Limitations, and Strategy to Pick the Right K.\n",
    "https://levelup.gitconnected.com/knn-failure-cases-limitations-and-strategy-to-pick-right-k-45de1b986428\n",
    "\n",
    "[6] Andeas Dunn. (2021, Nov 09). D209: Data Mining Task 1 Code Demo. https://www.youtube.com/watch?v=EuwmMMXTGFw\n",
    "\n",
    "[7] Onel Harrison. (2018, Sep 10). Machine Learning Basics with the K-Nearest Neighbors Algorithm. https://towardsdatascience.com/machine-learning-basics-with-the-k-nearest-neighbors-algorithm-6a6e71d01761\n",
    "\n",
    "[8] Saravana Thirumuruganathan. (2010, May 17). A Detailed Introduction to K-Nearest Neighbor (KNN) Algorithm. https://saravananthirumuruganathan.wordpress.com/2010/05/17/a-detailed-introduction-to-k-nearest-neighbor-knn-algorithm/"
   ]
  }
 ],
 "metadata": {
  "kernelspec": {
   "display_name": "Python 3",
   "language": "python",
   "name": "python3"
  },
  "language_info": {
   "codemirror_mode": {
    "name": "ipython",
    "version": 3
   },
   "file_extension": ".py",
   "mimetype": "text/x-python",
   "name": "python",
   "nbconvert_exporter": "python",
   "pygments_lexer": "ipython3",
   "version": "3.8.8"
  }
 },
 "nbformat": 4,
 "nbformat_minor": 5
}
